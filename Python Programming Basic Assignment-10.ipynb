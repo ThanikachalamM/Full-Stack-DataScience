{
 "cells": [
  {
   "cell_type": "code",
   "execution_count": 1,
   "id": "broad-nomination",
   "metadata": {},
   "outputs": [
    {
     "name": "stdout",
     "output_type": "stream",
     "text": [
      "Sum of all elements in given list:  74\n"
     ]
    }
   ],
   "source": [
    "#1 Write a Python program to find sum of elements in list?\n",
    "\n",
    "total = 0\n",
    "\n",
    "# creating a list\n",
    "list1 = [11, 5, 17, 18, 23]\n",
    "\n",
    "# Iterate each element in list\n",
    "# and add them in variale total\n",
    "for ele in range(0, len(list1)):\n",
    "    total = total + list1[ele]\n",
    "\n",
    "# printing total value\n",
    "print(\"Sum of all elements in given list: \", total)\n"
   ]
  },
  {
   "cell_type": "code",
   "execution_count": 4,
   "id": "noble-gender",
   "metadata": {},
   "outputs": [
    {
     "name": "stdout",
     "output_type": "stream",
     "text": [
      "Sum of all elements in given list:  387090\n"
     ]
    }
   ],
   "source": [
    "#2 Write a Python program to Multiply all numbers in the list?\n",
    "\n",
    "total=1\n",
    "# creating a list\n",
    "list1 = [11, 5, 17, 18, 23]\n",
    "\n",
    "# Iterate each element in list\n",
    "# and add them in variale total\n",
    "for ele in range(0, len(list1)):\n",
    "    total = total * list1[ele]\n",
    "\n",
    "# printing total value\n",
    "print(\"Sum of all elements in given list: \", total)\n"
   ]
  },
  {
   "cell_type": "code",
   "execution_count": 5,
   "id": "specialized-place",
   "metadata": {},
   "outputs": [
    {
     "name": "stdout",
     "output_type": "stream",
     "text": [
      "Smallest number in list 5\n"
     ]
    }
   ],
   "source": [
    "#3 Write a Python program to find smallest number in a list?\n",
    "list1 = [11, 5, 17, 18, 23]\n",
    "print(\"Smallest number in list\",min(list1))"
   ]
  },
  {
   "cell_type": "code",
   "execution_count": 6,
   "id": "discrete-phone",
   "metadata": {},
   "outputs": [
    {
     "name": "stdout",
     "output_type": "stream",
     "text": [
      "largest number in list 23\n"
     ]
    }
   ],
   "source": [
    "#4Write a Python program to find largest number in a list?\n",
    "list1 = [11, 5, 17, 18, 23]\n",
    "print(\"largest number in list\",max(list1))"
   ]
  },
  {
   "cell_type": "code",
   "execution_count": 7,
   "id": "acting-sword",
   "metadata": {},
   "outputs": [
    {
     "name": "stdout",
     "output_type": "stream",
     "text": [
      "second largest number in list 18\n"
     ]
    }
   ],
   "source": [
    "#5Write a Python program to find second largest number in a list?\n",
    "list1 = [11, 5, 17, 18, 23]\n",
    "list1.sort()\n",
    "print(\"second largest number in list\",list1[-2])"
   ]
  },
  {
   "cell_type": "code",
   "execution_count": 9,
   "id": "pharmaceutical-milton",
   "metadata": {},
   "outputs": [
    {
     "name": "stdout",
     "output_type": "stream",
     "text": [
      "Enter N largest elements:1\n",
      "second largest number in list 23\n"
     ]
    }
   ],
   "source": [
    "#6Write a Python program to find N largest elements from a list?\n",
    "list1 = [11, 5, 17, 18, 23]\n",
    "list1.sort()\n",
    "n=int(input(\"Enter N largest elements:\"))\n",
    "print(\"second largest number in list\",list1[-1*n])"
   ]
  },
  {
   "cell_type": "code",
   "execution_count": 11,
   "id": "written-department",
   "metadata": {},
   "outputs": [
    {
     "name": "stdout",
     "output_type": "stream",
     "text": [
      "18\n",
      "24\n",
      "8\n",
      "6\n",
      "10\n"
     ]
    }
   ],
   "source": [
    "#7Write a Python program to print even numbers in a list?\n",
    "list1 = [11, 5, 17, 18, 23,24,8,6,10]\n",
    "for i in list1:\n",
    "    if i%2==0:\n",
    "        print(i)"
   ]
  },
  {
   "cell_type": "code",
   "execution_count": 12,
   "id": "criminal-knitting",
   "metadata": {},
   "outputs": [
    {
     "name": "stdout",
     "output_type": "stream",
     "text": [
      "11\n",
      "5\n",
      "17\n",
      "23\n"
     ]
    }
   ],
   "source": [
    "#8Write a Python program to print odd numbers in a list?\n",
    "list1 = [11, 5, 17, 18, 23,24,8,6,10]\n",
    "for i in list1:\n",
    "    if i%2!=0:\n",
    "        print(i)"
   ]
  },
  {
   "cell_type": "code",
   "execution_count": 13,
   "id": "unlike-conjunction",
   "metadata": {},
   "outputs": [
    {
     "name": "stdout",
     "output_type": "stream",
     "text": [
      "The original list is : [5, 6, [], 3, [], [], 9]\n",
      "List after empty list removal : [5, 6, 3, 9]\n"
     ]
    }
   ],
   "source": [
    "#9 Write a Python program to Remove empty List from List?\n",
    "\n",
    "# Initializing list\n",
    "test_list = [5, 6, [], 3, [], [], 9]\n",
    "\n",
    "# printing original list\n",
    "print(\"The original list is : \" + str(test_list))\n",
    "\n",
    "# Remove empty List from List using list comprehension\n",
    "res = [ele for ele in test_list if ele != []]\n",
    "\n",
    "# printing result\n",
    "print (\"List after empty list removal : \" + str(res))\n"
   ]
  },
  {
   "cell_type": "code",
   "execution_count": 14,
   "id": "fantastic-speech",
   "metadata": {},
   "outputs": [
    {
     "name": "stdout",
     "output_type": "stream",
     "text": [
      "[10, 22, 44, 23, 4]\n",
      "[10, 22, 44, 23, 4]\n"
     ]
    }
   ],
   "source": [
    "#10Write a Python program to Cloning or Copying a list?\n",
    "original_list = [10, 22, 44, 23, 4]\n",
    "new_list = list(original_list)\n",
    "print(original_list)\n",
    "print(new_list)"
   ]
  },
  {
   "cell_type": "code",
   "execution_count": 15,
   "id": "valued-wells",
   "metadata": {},
   "outputs": [
    {
     "name": "stdout",
     "output_type": "stream",
     "text": [
      "Given list:\n",
      " ['Mon', 'Wed', 'Mon', 'Tue', 'Thu']\n",
      "Given element:\n",
      " Mon\n",
      "Number of times the element is present in list:\n",
      " 2\n"
     ]
    }
   ],
   "source": [
    "#11 Write a Python program to Count occurrences of an element in a list?\n",
    "Alist = ['Mon', 'Wed', 'Mon', 'Tue', 'Thu']\n",
    "elem = 'Mon'\n",
    "# Given list and element\n",
    "print(\"Given list:\\n\", Alist)\n",
    "print(\"Given element:\\n\",elem)\n",
    "cnt = Alist.count('Mon')\n",
    "print(\"Number of times the element is present in list:\\n\",cnt)"
   ]
  },
  {
   "cell_type": "code",
   "execution_count": 17,
   "id": "compliant-sterling",
   "metadata": {},
   "outputs": [
    {
     "name": "stdout",
     "output_type": "stream",
     "text": [
      "Counter({'a': 2, 'b': 1})\n"
     ]
    }
   ],
   "source": [
    "from collections import Counter\n",
    "a_list = [\"a\", \"b\", \"a\"]\n",
    "\n",
    "occurrences = Counter(a_list)\n",
    "\n",
    "print(occurrences)"
   ]
  },
  {
   "cell_type": "code",
   "execution_count": null,
   "id": "ceramic-surge",
   "metadata": {},
   "outputs": [],
   "source": []
  }
 ],
 "metadata": {
  "kernelspec": {
   "display_name": "Python 3",
   "language": "python",
   "name": "python3"
  },
  "language_info": {
   "codemirror_mode": {
    "name": "ipython",
    "version": 3
   },
   "file_extension": ".py",
   "mimetype": "text/x-python",
   "name": "python",
   "nbconvert_exporter": "python",
   "pygments_lexer": "ipython3",
   "version": "3.8.8"
  }
 },
 "nbformat": 4,
 "nbformat_minor": 5
}
