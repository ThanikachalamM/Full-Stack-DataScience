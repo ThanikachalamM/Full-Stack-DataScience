{
 "cells": [
  {
   "cell_type": "code",
   "execution_count": null,
   "id": "6e97a8c0",
   "metadata": {},
   "outputs": [],
   "source": [
    "1. What exactly is []?\n",
    "The empty list value, which is a list value that contains no items. This is similar to how '' is the empty string value.\n"
   ]
  },
  {
   "cell_type": "code",
   "execution_count": null,
   "id": "c4e33af5",
   "metadata": {},
   "outputs": [],
   "source": [
    "2. In a list of values stored in a variable called spam, how would you assign the value &#39;hello&#39; as the\n",
    "third value? (Assume [2, 4, 6, 8, 10] are in spam.)\n",
    "spam[2] = 'hello' (Notice that the third value in a list is at index 2 because the first index is 0.)"
   ]
  },
  {
   "cell_type": "code",
   "execution_count": null,
   "id": "1e1c264e",
   "metadata": {},
   "outputs": [],
   "source": [
    "Lets pretend the spam includes the list ['a', 'b','c','d'] for the next three queries.\n",
    "3. What is the value of spam[int(int('3' * 2) / 11)]?\n",
    "'d' (Note that '3' * 2 is the string '33', which is passed to int() before being divided by 11. This eventually evaluates to 3. Expressions can be used wherever values are used.)\n",
    "\n",
    "4. What is the value of spam[-1]?\n",
    "'d' (Negative indexes count from the end.)\n",
    "5. What is the value of spam[:2]?\n",
    "['a', 'b']"
   ]
  },
  {
   "cell_type": "code",
   "execution_count": null,
   "id": "c5985ec3",
   "metadata": {},
   "outputs": [],
   "source": [
    "Let's pretend bacon has the list [3.14, 'cat', 11, 'cat', True] for the next three questions.\n",
    "6. What is the value of bacon.index('cat')?\n",
    "1\n",
    "7. How does bacon.append(99) change the look of the list value in bacon?\n",
    "[3.14, 'cat', 11, 'cat', True, 99]\n",
    "\n",
    "8. How does bacon.remove('cat') change the look of the list in bacon?\n",
    "[3.14, 11, 'cat', True]"
   ]
  },
  {
   "cell_type": "code",
   "execution_count": null,
   "id": "d53d8bc1",
   "metadata": {},
   "outputs": [],
   "source": [
    "9.What are the operators for list concatenation and list replication?\n",
    "The operator for list concatenation is +, while the operator for replication is *. (This is the same as for strings.)\n"
   ]
  },
  {
   "cell_type": "code",
   "execution_count": null,
   "id": "87598db7",
   "metadata": {},
   "outputs": [],
   "source": [
    "10.What is the difference between the append() and insert() list methods?\n",
    "While append() will add values only to the end of a list, insert() can add them anywhere in the list.\n",
    "11.What are two ways to remove values from a list?\n",
    "The del statement and the remove() list method are two ways to remove values from a list.\n",
    "12.Name a few ways that list values are similar to string values.\n",
    "Both lists and strings can be passed to len(), have indexes and slices, be used in for loops, be concatenated or replicated, and be used with the in and not in operators.\n",
    "13.What is the difference between lists and tuples?\n",
    "Lists are mutable; they can have values added, removed, or changed. Tuples are immutable; they cannot be changed at all. Also, tuples are written using parentheses, ( and ), while lists use the square brackets, [ and ].\n",
    "14.How do you type the tuple value that has just the integer value 42 in it?\n",
    "(42,) (The trailing comma is mandatory.)\n",
    "15.How can you get the tuple form of a list value? How can you get the list form of a tuple value?\n",
    "The tuple() and list() functions, respectively\n",
    "16.Variables that \"contain\" list values don't actually contain lists directly. What do they contain instead?\n",
    "They contain references to list values.\n",
    "17.What is the difference between copy.copy() and copy.deepcopy()?\n",
    "The copy.copy() function will do a shallow copy of a list, while the copy.deepcopy() function will do a deep copy of a list. That is, only copy.deepcopy() will duplicate any lists inside the list.\n"
   ]
  }
 ],
 "metadata": {
  "kernelspec": {
   "display_name": "Python 3",
   "language": "python",
   "name": "python3"
  },
  "language_info": {
   "codemirror_mode": {
    "name": "ipython",
    "version": 3
   },
   "file_extension": ".py",
   "mimetype": "text/x-python",
   "name": "python",
   "nbconvert_exporter": "python",
   "pygments_lexer": "ipython3",
   "version": "3.8.10"
  }
 },
 "nbformat": 4,
 "nbformat_minor": 5
}
