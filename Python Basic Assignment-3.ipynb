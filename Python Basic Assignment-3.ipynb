{
 "cells": [
  {
   "cell_type": "code",
   "execution_count": null,
   "id": "12a58476",
   "metadata": {},
   "outputs": [],
   "source": [
    "1. Why are functions advantageous to have in your programs?\n",
    "Functions reduce the need for duplicate code. This makes programs shorter, easier to read, and easier to update."
   ]
  },
  {
   "cell_type": "code",
   "execution_count": null,
   "id": "f82373ce",
   "metadata": {},
   "outputs": [],
   "source": [
    "2. When does the code in a function execute: when the function is defined or when the function is called?\n",
    "    The code in a function executes when the function is called, not when the function is defined.\n",
    "    "
   ]
  },
  {
   "cell_type": "code",
   "execution_count": null,
   "id": "8df610c9",
   "metadata": {},
   "outputs": [],
   "source": [
    "3.What statement creates a function?\n",
    "The def statement defines (that is, creates) a function."
   ]
  },
  {
   "cell_type": "code",
   "execution_count": null,
   "id": "92aa53d9",
   "metadata": {},
   "outputs": [],
   "source": [
    "4. What is the difference between a function and a function call?\n",
    "A function consists of the def statement and the code in its def clause.\n",
    "\n",
    "A function call is what moves the program execution into the function, and the function call evaluates to the function's return value.\n"
   ]
  },
  {
   "cell_type": "code",
   "execution_count": null,
   "id": "cbac9450",
   "metadata": {},
   "outputs": [],
   "source": [
    "5.How many global scopes are there in a Python program? How many local scopes?\n",
    "There is one global scope, and a local scope is created whenever a function is called."
   ]
  },
  {
   "cell_type": "code",
   "execution_count": null,
   "id": "562fbf04",
   "metadata": {},
   "outputs": [],
   "source": [
    "6.What happens to variables in a local scope when the function call returns?\n",
    "When a function returns, the local scope is destroyed, and all the variables in it are forgotten."
   ]
  },
  {
   "cell_type": "code",
   "execution_count": null,
   "id": "5d23dec1",
   "metadata": {},
   "outputs": [],
   "source": [
    "7. What is a return value? Can a return value be part of an expression?\n",
    "A return value is the value that a function call evaluates to. Like any value, a return value can be used as part of an expression.\n"
   ]
  },
  {
   "cell_type": "code",
   "execution_count": null,
   "id": "647605ed",
   "metadata": {},
   "outputs": [],
   "source": [
    "8.If a function does not have a return statement, what is the return value of a call to that function?\n",
    "If there is no return statement for a function, its return value is None."
   ]
  },
  {
   "cell_type": "code",
   "execution_count": null,
   "id": "9af1d215",
   "metadata": {},
   "outputs": [],
   "source": [
    "9.How can you force a variable in a function to refer to the global variable?\n",
    "A global statement will force a variable in a function to refer to the global variable."
   ]
  },
  {
   "cell_type": "markdown",
   "id": "8203578c",
   "metadata": {},
   "source": [
    "10.What is the data type of None?\n",
    "The data type of None is NoneType."
   ]
  },
  {
   "cell_type": "code",
   "execution_count": null,
   "id": "ea41341a",
   "metadata": {},
   "outputs": [],
   "source": [
    "11. What does the import areallyourpetsnamederic statement do?\n",
    "That import statement imports a module named areallyourpetsnamederic. (This isn't a real Python module, by the way.)"
   ]
  },
  {
   "cell_type": "code",
   "execution_count": null,
   "id": "66ccd314",
   "metadata": {},
   "outputs": [],
   "source": [
    "12. If you had a function named bacon() in a module named spam, how would you call it after importing spam?\n",
    "This function can be called with spam.bacon()."
   ]
  },
  {
   "cell_type": "code",
   "execution_count": null,
   "id": "dbefd555",
   "metadata": {},
   "outputs": [],
   "source": [
    "13. How can you prevent a program from crashing when it gets an error?\n",
    "Place the line of code that might cause an error in a try clause."
   ]
  },
  {
   "cell_type": "code",
   "execution_count": null,
   "id": "f23d6e53",
   "metadata": {},
   "outputs": [],
   "source": [
    "14. What goes in the try clause? What goes in the except clause?\n",
    "The code that could potentially cause an error goes in the try clause.\n",
    "\n",
    "The code that executes if an error happens goes in the except clause."
   ]
  }
 ],
 "metadata": {
  "kernelspec": {
   "display_name": "Python 3",
   "language": "python",
   "name": "python3"
  },
  "language_info": {
   "codemirror_mode": {
    "name": "ipython",
    "version": 3
   },
   "file_extension": ".py",
   "mimetype": "text/x-python",
   "name": "python",
   "nbconvert_exporter": "python",
   "pygments_lexer": "ipython3",
   "version": "3.8.10"
  }
 },
 "nbformat": 4,
 "nbformat_minor": 5
}
