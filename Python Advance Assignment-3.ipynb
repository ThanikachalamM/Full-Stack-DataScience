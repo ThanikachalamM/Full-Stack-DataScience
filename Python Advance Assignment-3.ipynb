{
 "cells": [
  {
   "cell_type": "code",
   "execution_count": null,
   "id": "15066aa3",
   "metadata": {},
   "outputs": [],
   "source": [
    "#What is the concept of an abstract superclass?\n",
    "Abstract Super Class. A common superclass for several subclasses. Factor up common behavior. Define the methods they all respond to. Methods that subclasses should implement are declared abstract\n",
    "#What happens when a class statement's top level contains a basic assignment statement?\n",
    "An assignment statement evaluates the expression list (remember that this can be a single expression or a comma-separated list, the latter yielding a tuple) and assigns the single resulting object to each of the target lists, from left to right.\n",
    "#Why does a class need to manually call a superclass&#39;s __init__ method?\n",
    "The main reason for always calling base class _init__ is that base class may typically create member variable and initialize them to defaults. So if you don't call base class init, none of that code would be executed and you would end up with base class that has no member variables\n",
    "#How can you augment, instead of completely replacing, an inherited method?\n",
    "What we really want to do here is somehow augment the original giveRaise, instead of replacing it altogether. The good way to do that in Python is by calling to the original version directly, with augmented arguments, like this:\n",
    "\n",
    "class Manager(Person):\n",
    "\n",
    "def giveRaise(self, percent, bonus=.10):\n",
    "\n",
    "Person.giveRaise(self, percent + bonus) # Good: augment original\n",
    "\n",
    "This code leverages the fact that a class method can always be called either through an instance (the usual way, where Python sends the instance to the self argument automatically) or through the class (the less common scheme, where you must pass the instance manually). In more symbolic terms, recall that a normal method call of this form:\n",
    "\n",
    "instance.method(args...) is automatically translated by Python into this equivalent form:\n",
    "\n",
    "class.method(instance, args...)\n",
    "\n",
    "#How is the local scope of a class different from that of a function?\n",
    "def f():\n",
    "    city = \"Hamburg\"\n",
    "    def g():\n",
    "        global city\n",
    "        city = \"Geneva\"\n",
    "    print(\"Before calling g: \" + city)\n",
    "    print(\"Calling g now:\")\n",
    "    g()\n",
    "    print(\"After calling g: \" + city)\n",
    "    \n",
    "f()\n",
    "print(\"Value of city in main: \" + city)"
   ]
  }
 ],
 "metadata": {
  "kernelspec": {
   "display_name": "Python 3",
   "language": "python",
   "name": "python3"
  },
  "language_info": {
   "codemirror_mode": {
    "name": "ipython",
    "version": 3
   },
   "file_extension": ".py",
   "mimetype": "text/x-python",
   "name": "python",
   "nbconvert_exporter": "python",
   "pygments_lexer": "ipython3",
   "version": "3.8.10"
  }
 },
 "nbformat": 4,
 "nbformat_minor": 5
}
