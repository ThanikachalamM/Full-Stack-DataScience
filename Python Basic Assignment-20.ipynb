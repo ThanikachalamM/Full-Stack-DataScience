{
 "cells": [
  {
   "cell_type": "code",
   "execution_count": null,
   "id": "45792f6e",
   "metadata": {},
   "outputs": [],
   "source": [
    "#Set the variable test1 to the string 'This is a test of the emergency text system' and save test1 to a file named test.txt.\n",
    "\n",
    "tet1 = 'This is a test of the emergency text system'\n",
    "f=file.write('test.txt','w')\n",
    "f.write(test1)\n",
    "f.close()\n",
    "#Read the contents of the file test.txt into the variable test2. Is there a difference between test 1 and test 2?\n",
    "r=file.read('test.txt','r')\n",
    "test2=r.read()\n",
    "\n",
    "\n"
   ]
  },
  {
   "cell_type": "code",
   "execution_count": null,
   "id": "9ba293bc",
   "metadata": {},
   "outputs": [],
   "source": [
    "#Create a CSV file called books.csv by using these lines:\n",
    "#title,author,year\n",
    "#The Weirdstone of Brisingamen,Alan Garner,1960\n",
    "#Perdido Street Station,China Miéville,2000\n",
    "#Thud!,Terry Pratchett,2005\n",
    "#The Spellman Files,Lisa Lutz,2007\n",
    "#Small Gods,Terry Pratchett,1992\n",
    "\n",
    "test = ''' title,author,year\n",
    "The Weirdstone of Brisingamen,Alan Garner,1960\n",
    "Perdido Street Station,China Miéville,2000\n",
    "Thud!,Terry Pratchett,2005\n",
    "The Spellman Files,Lisa Lutz,2007\n",
    "Small Gods,Terry Pratchett,1992'''\n",
    "\n",
    "with open('books.csv','wt') as outfile:\n",
    "  outfile.write(text)"
   ]
  },
  {
   "cell_type": "code",
   "execution_count": null,
   "id": "aef120b6",
   "metadata": {},
   "outputs": [],
   "source": [
    "#Use the sqlite3 module to create a SQLite database called books.db, and a table called books with these fields: title (text), author (text), and year (integer).\n",
    "\n",
    "import sqlite3\n",
    "db=sqlite3.connect('books.db')\n",
    "curs=db.cursor()\n",
    "curs.execute('''create table books(title text, authour text, year int)''')\n",
    "db.commit()\n"
   ]
  },
  {
   "cell_type": "code",
   "execution_count": null,
   "id": "5e5c3542",
   "metadata": {},
   "outputs": [],
   "source": [
    "#Read books.csv and insert its data into the book table.\n",
    "import csv\n",
    "import sqlite3\n",
    "int_str='insert into book values(?,?,?)'\n",
    "with open('books.csv','rt') as infile:\n",
    "  books=csv.DictReader(infile)\n",
    "  for book in books:\n",
    "    curs.execute(ins_str, (book['tile'],book['author'],book['year']))\n",
    "db.commit()\n"
   ]
  },
  {
   "cell_type": "code",
   "execution_count": null,
   "id": "2b614379",
   "metadata": {},
   "outputs": [],
   "source": [
    "#Select and print the title column from the book table in alphabetical order.\n",
    "sql='select title from book order by title asc'\n",
    "for row in db.execute(sql)\n",
    " print(row)"
   ]
  },
  {
   "cell_type": "code",
   "execution_count": null,
   "id": "320c9d29",
   "metadata": {},
   "outputs": [],
   "source": [
    "#From the book table, select and print all columns in the order of publication.\n",
    "for row in db.execute('select * from book order by year')\n",
    "  print(row)\n",
    "    "
   ]
  },
  {
   "cell_type": "code",
   "execution_count": null,
   "id": "7f44e7d7",
   "metadata": {},
   "outputs": [],
   "source": [
    "#Use the sqlalchemy module to connect to the sqlite3 database books.db that you just made in exercise 6.\n",
    "import sqlalchemy\n",
    "conn = sqlalchemy.create_engine('sqlite://books.db')\n",
    "sql='select title from boo order by title asc'\n",
    "rows=conn.execute(sql)\n",
    "for row in rows:\n",
    "  print(row)"
   ]
  },
  {
   "cell_type": "code",
   "execution_count": null,
   "id": "6a42ee7d",
   "metadata": {},
   "outputs": [],
   "source": [
    "#Install the Redis server and the Python redis library (pip install redis) on your computer. Create a\n",
    "#Redis hash called test with the fields count (1) and name (&#39;Fester Bestertester&#39;). Print all the fields for\n",
    "#test.\n",
    "\n",
    "import redis\n",
    "conn=redis.Redis()\n",
    "conn.delete('test')\n",
    "conn.hmset('test',{'count':1, 'name':'fester bestertester'})\n",
    "conn.hgetall('test')"
   ]
  },
  {
   "cell_type": "code",
   "execution_count": null,
   "id": "db57676f",
   "metadata": {},
   "outputs": [],
   "source": [
    "#Increment the count field of test and print it.\n",
    "conn.hincrby('test', 'count',3)\n",
    "conn.hget('test', 'count')"
   ]
  }
 ],
 "metadata": {
  "kernelspec": {
   "display_name": "Python 3",
   "language": "python",
   "name": "python3"
  },
  "language_info": {
   "codemirror_mode": {
    "name": "ipython",
    "version": 3
   },
   "file_extension": ".py",
   "mimetype": "text/x-python",
   "name": "python",
   "nbconvert_exporter": "python",
   "pygments_lexer": "ipython3",
   "version": "3.8.10"
  }
 },
 "nbformat": 4,
 "nbformat_minor": 5
}
