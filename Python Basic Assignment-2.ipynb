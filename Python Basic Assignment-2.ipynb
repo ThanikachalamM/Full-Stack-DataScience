{
 "cells": [
  {
   "cell_type": "code",
   "execution_count": null,
   "id": "23d8e0d4",
   "metadata": {},
   "outputs": [],
   "source": [
    "#1.What are the two values of the Boolean data type? How do you write them?\n",
    "TRUE, FALSE\n"
   ]
  },
  {
   "cell_type": "code",
   "execution_count": null,
   "id": "5f34f2b9",
   "metadata": {},
   "outputs": [],
   "source": [
    "#2.What are the three different types of Boolean operators?\n",
    "AND, OR, NOT"
   ]
  },
  {
   "cell_type": "code",
   "execution_count": null,
   "id": "515a816d",
   "metadata": {},
   "outputs": [],
   "source": [
    "#3. Make a list of each Boolean operator's truth tables (i.e. every possible combination of Boolean values for the operator and what it evaluate ).\n",
    "AND\n",
    "TRUE AND TRUE = TRUE\n",
    "TRUE AND FALSE = FALSE\n",
    "FALSE AND TRUE = FALSE\n",
    "FALSE AND FALSE = FALSE\n",
    "\n",
    "OR\n",
    "TRUE OR TRUE = TRUE\n",
    "TRUE OR FALSE = TRUE\n",
    "FALSE OR TRUE = TRUE\n",
    "FALSE OR FALSE = FALSE\n",
    "\n",
    "NOT\n",
    "TRUE NOT = FALSE\n",
    "FALSE NOT = TRUE"
   ]
  },
  {
   "cell_type": "code",
   "execution_count": null,
   "id": "dc7e174b",
   "metadata": {},
   "outputs": [],
   "source": [
    "4. What are the values of the following expressions?\n",
    "(5 > 4) and (3 == 5)--->  FALSE\n",
    "not (5 > 4) --->  FALSE\n",
    "(5 > 4) or (3 == 5) --> TRUE\n",
    "not ((5 > 4) or (3 == 5))----> FALSE\n",
    "(True and True) and (True == False)---> FALSE\n",
    "(not False) or (not True)---> TRUE\n"
   ]
  },
  {
   "cell_type": "code",
   "execution_count": null,
   "id": "64c1e10e",
   "metadata": {},
   "outputs": [],
   "source": [
    "5. What are the six comparison operators?\n",
    "equal to, not equal to, greater than, greater than or equal to, less than, and less than or equal to"
   ]
  },
  {
   "cell_type": "code",
   "execution_count": null,
   "id": "17fb5ef8",
   "metadata": {},
   "outputs": [],
   "source": [
    "6.How do you tell the difference between the equal to and assignment operators?Describe a condition and when you would use one.\n",
    "IF 3==3 --> EQUAL \n",
    "A=3 ASSIGNMENT\n",
    " "
   ]
  },
  {
   "cell_type": "code",
   "execution_count": null,
   "id": "758365a2",
   "metadata": {},
   "outputs": [],
   "source": [
    "7. Identify the three blocks in this code:\n",
    "spam = 0\n",
    "#Block-1\n",
    "if spam == 10:\n",
    "    print('eggs')\n",
    "#Block-2\n",
    "if spam > 5:\n",
    "    print('bacon')\n",
    "else:\n",
    "#Block-3\n",
    "    print('ham')\n",
    "    print('spam')\n",
    "    print('spam')\n"
   ]
  },
  {
   "cell_type": "code",
   "execution_count": null,
   "id": "2b0d2d7d",
   "metadata": {},
   "outputs": [],
   "source": [
    "8. Write code that prints Hello if 1 is stored in spam, prints Howdy if 2 is stored in spam, and prints Greetings! if anything else is stored in spam.\n",
    "\n",
    "spam = int(input())\n",
    "if spam == 1:\n",
    "    print('hello')\n",
    "if spam == 2:\n",
    "    print('howdy')\n",
    "else:\n",
    "    print('greetings!')\n",
    "    "
   ]
  },
  {
   "cell_type": "code",
   "execution_count": null,
   "id": "48d7fb47",
   "metadata": {},
   "outputs": [],
   "source": [
    "9.If your programme is stuck in an endless loop, what keys you’ll press?\n",
    "You'll have to kill the program using Ctrl + C where C stands for Cancel"
   ]
  },
  {
   "cell_type": "code",
   "execution_count": null,
   "id": "dc191147",
   "metadata": {},
   "outputs": [],
   "source": [
    "10. How can you tell the difference between break and continue?\n",
    "The break statement is usually used with the switch statement, and it can also use it within the while loop, do-while loop, or the for-loop.\n",
    "\n",
    "The continue statement is not used with the switch statement, but it can be used within the while loop, do-while loop, or for-loop."
   ]
  },
  {
   "cell_type": "code",
   "execution_count": 1,
   "id": "ed215a71",
   "metadata": {},
   "outputs": [
    {
     "name": "stdout",
     "output_type": "stream",
     "text": [
      "0\n",
      "1\n",
      "2\n",
      "3\n",
      "4\n",
      "5\n",
      "6\n",
      "7\n",
      "8\n",
      "9\n",
      "0\n",
      "1\n",
      "2\n",
      "3\n",
      "4\n",
      "5\n",
      "6\n",
      "7\n",
      "8\n",
      "9\n",
      "0\n",
      "1\n",
      "2\n",
      "3\n",
      "4\n",
      "5\n",
      "6\n",
      "7\n",
      "8\n",
      "9\n"
     ]
    }
   ],
   "source": [
    "#11. In a for loop, what is the difference between range(10), range(0, 10), and range(0, 10, 1)?\n",
    "for i in range(10):\n",
    "    print(i)\n",
    "for i in range(0, 10):\n",
    "    print(i)\n",
    "for i in range(0, 10, 1):\n",
    "    print(i)\n",
    "    \n",
    "No differeance "
   ]
  },
  {
   "cell_type": "code",
   "execution_count": null,
   "id": "86dc5fcc",
   "metadata": {},
   "outputs": [],
   "source": [
    "#12. Write a short program that prints the numbers 1 to 10 using a for loop. Then write an equivalent program that prints the numbers 1 to 10 using a while loop.\n",
    "for i in range(1, 11):\n",
    "    print(i)\n",
    "    \n",
    "i=1\n",
    "while i <= 10:\n",
    "    print(i)\n",
    "    i = i + 1"
   ]
  },
  {
   "cell_type": "code",
   "execution_count": null,
   "id": "bc291d0c",
   "metadata": {},
   "outputs": [],
   "source": [
    "13. If you had a function named bacon() inside a module named spam, how would you call it after importing spam?\n",
    "This function can be called with spam.bacon()."
   ]
  }
 ],
 "metadata": {
  "kernelspec": {
   "display_name": "Python 3",
   "language": "python",
   "name": "python3"
  },
  "language_info": {
   "codemirror_mode": {
    "name": "ipython",
    "version": 3
   },
   "file_extension": ".py",
   "mimetype": "text/x-python",
   "name": "python",
   "nbconvert_exporter": "python",
   "pygments_lexer": "ipython3",
   "version": "3.8.10"
  }
 },
 "nbformat": 4,
 "nbformat_minor": 5
}
