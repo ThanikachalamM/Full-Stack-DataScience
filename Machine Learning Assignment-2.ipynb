{
 "cells": [
  {
   "cell_type": "code",
   "execution_count": null,
   "id": "3cc7393b",
   "metadata": {},
   "outputs": [],
   "source": [
    "1) What is the concept of human learning? Please give two examples.\n",
    "Learning is a key process in human behaviour. All living is learning. If we compare the simple, crude ways in which a child feels and behaves, with the complex modes of adult behaviour, his skills, habits, thought, sentiments and the like- we will know what difference learning has made to the individual.\n",
    "2) What different forms of human learning are there? Are there any machine learning equivalents?\n",
    "human will learn from past experiance. like machine also can learn from past experience \n",
    "3) What is machine learning, and how does it work? What are the key responsibilities of machine\n",
    "learning?\n",
    "To study and convert data science prototypes. \n",
    "To design and develop Machine Learning systems and schemes. \n",
    "To perform statistical analysis and fine-tune models using test results.\n",
    "To find available datasets online for training purposes. \n",
    "To train and re-train ML systems and models as and when necessary. \n",
    "To extend and enrich existing ML frameworks and libraries.\n",
    "To develop Machine Learning apps according to customer/client requirements.\n",
    "To research, experiment with, and implement suitable ML algorithms and tools.\n",
    "To analyze the problem-solving capabilities and use-cases of ML algorithms and rank them by their success probability.\n",
    "To explore and visualize data for better understanding and identify differences in data distribution that could impact model performance when deploying it in real-world scenarios.\n",
    "4) Define the terms &quot;penalty&quot; and &quot;reward&quot; in the context of reinforcement learning.\n",
    "A reinforcement learning algorithm, which may also be referred to as an agent, learns by interacting with its environment. The agent receives rewards by performing correctly and penalties for performing incorrectly. The agent learns without intervention from a human by maximizing its reward and minimizing its penalty.\n",
    "5) Explain the term &quot;learning as a search&quot;?\n",
    "Learning can be viewed as a search through the space of all sentences in a concept description language for a sentence that best describes the data. Alternatively, it can be viewed as a search through all hypotheses in a hypothesis space.\n",
    "6) What are the various goals of machine learning? What is the relationship between these and\n",
    "human learning?\n",
    "Its goal and usage is to build new and/or leverage existing algorithms to learn from data, in order to build generalizable models that give accurate predictions, or to find patterns, particularly with new and unseen similar data\n",
    "7) Illustrate the various elements of machine learning using a real-life illustration.\n",
    "Machine learning is one modern innovation that has helped man enhance not only many industrial and professional processes but also advances everyday living. But what is machine learning? It is a subset of artificial intelligence, which focuses on using statistical techniques to build intelligent computer systems in order to learn from databases available to it. Currently, machine learning has been used in multiple fields and industries. For example, medical diagnosis, image processing, prediction, classification, learning association, regression etc.\n",
    "8) Provide an example of the abstraction method.\n",
    "Abstraction is a process of hiding the implementation details and showing only functionality to the user.\n",
    "9) What is the concept of generalization? What function does it play in the machine learning\n",
    "process?\n",
    "Generalization refers to your model's ability to adapt properly to new, previously unseen data, drawn from the same distribution as the one used to create the model\n",
    "10) What is classification, exactly? What are the main distinctions between classification and regression?\n",
    "The most significant difference between regression vs classification is that while regression helps predict a continuous quantity, classification predicts discrete class labels. There are also some overlaps between the two types of machine learning algorithms\n",
    "11) It is used to quantify the relationship between one or more predictor variables and a response variable. The most basic form of linear is regression is known as simple linear regression, which is used to quantify the relationship between one predictor variable and one response variable\n",
    "It is used to quantify the relationship between one or more predictor variables and a response variable. The most basic form of linear is regression is known as simple linear regression, which is used to quantify the relationship between one predictor variable and one response variable\n",
    "12) Describe the clustering mechanism in detail.?\n",
    "We first describe the mechanisms used to realize system call clustering in a traditionally structured operating system. ... A multi-call is a mechanism that allows multiple system calls to be performed on a single kernel crossing, thereby reducing the overall execution overhead.\n",
    "13)Make brief observations on two of the following topics:\n",
    "\n",
    "i. Machine learning algorithms are used\n",
    "ii. Studying under supervision\n",
    "iii. Studying without supervision\n",
    "\n",
    "iv. Reinforcement learning is a form of learning based on positive reinforcement.\n",
    "Unsupervised learning (UL) is a type of algorithm that learns patterns from untagged data. The hope is that, through mimicry, the machine is forced to build a compact internal representation of its world and then generate imaginative content. In contrast to supervised learning (SL) where data is tagged by a human, e.g. as \"car\" or \"fish\" etc, UL exhibits self-organization that captures patterns as neuronal predilections or probability densities.[1] The other levels in the supervision spectrum are reinforcement learning where the machine is given only a numerical performance score as its guidance, and semi-supervised learning where a smaller portion of the data is tagged. Two broad met\n",
    "hods in UL are Neural Networks and Probabilistic Methods."
   ]
  },
  {
   "cell_type": "code",
   "execution_count": null,
   "id": "793feb18",
   "metadata": {},
   "outputs": [],
   "source": []
  }
 ],
 "metadata": {
  "kernelspec": {
   "display_name": "Python 3",
   "language": "python",
   "name": "python3"
  },
  "language_info": {
   "codemirror_mode": {
    "name": "ipython",
    "version": 3
   },
   "file_extension": ".py",
   "mimetype": "text/x-python",
   "name": "python",
   "nbconvert_exporter": "python",
   "pygments_lexer": "ipython3",
   "version": "3.8.10"
  }
 },
 "nbformat": 4,
 "nbformat_minor": 5
}
