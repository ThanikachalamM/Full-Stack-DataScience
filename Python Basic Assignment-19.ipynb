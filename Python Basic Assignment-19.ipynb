{
 "cells": [
  {
   "cell_type": "code",
   "execution_count": 1,
   "id": "9dd2acd5",
   "metadata": {},
   "outputs": [
    {
     "name": "stdout",
     "output_type": "stream",
     "text": [
      "<class '__main__.Thing'>\n",
      "<class '__main__.example'>\n"
     ]
    }
   ],
   "source": [
    "#Make a class called Thing with no contents and print it. Then, create an object called example\n",
    "#from this class and also print it. Are the printed values the same or different?\n",
    "\n",
    "class Thing():\n",
    "    pass\n",
    "\n",
    "print(Thing)\n",
    "\n",
    "class example(Thing):\n",
    "    pass\n",
    "\n",
    "print(example)\n",
    "\n"
   ]
  },
  {
   "cell_type": "code",
   "execution_count": 2,
   "id": "3221670a",
   "metadata": {},
   "outputs": [
    {
     "name": "stdout",
     "output_type": "stream",
     "text": [
      "abc\n"
     ]
    }
   ],
   "source": [
    "#Create a new class called Thing2 and add the value &#39;abc&#39; to the letters class attribute. Letters should be printed.\n",
    "class Thing2():\n",
    "    letters = 'abc'\n",
    "    \n",
    "print(Thing2.letters)"
   ]
  },
  {
   "cell_type": "code",
   "execution_count": 3,
   "id": "9e6c3017",
   "metadata": {},
   "outputs": [
    {
     "name": "stdout",
     "output_type": "stream",
     "text": [
      "xyz\n",
      "None\n"
     ]
    }
   ],
   "source": [
    "#Make yet another class called, of course, Thing3. This time, assign the value &#39;xyz&#39; to an instance\n",
    "#(object) attribute called letters. Print letters. Do you need to make an object from the class to do\n",
    "#this?\n",
    "class Thing3():\n",
    "    def __init__(self,word):\n",
    "        self.word = word\n",
    "    def letters(self):\n",
    "        print(self.word)\n",
    "        \n",
    "print(Thing3('xyz').letters())"
   ]
  },
  {
   "cell_type": "code",
   "execution_count": null,
   "id": "aa627c0d",
   "metadata": {},
   "outputs": [],
   "source": [
    "#Create an Element class with the instance attributes name, symbol, and number. Create a class\n",
    "#object with the values &#39;Hydrogen,&#39; &#39;H,&#39; and 1.\n",
    "\n",
    "class Element(): \n",
    "    def __init__(self ,name,symbol,number):\n",
    "        self.name = name\n",
    "        self.symbol = symbol\n",
    "        self.number = number\n",
    "    def dump(self):\n",
    "        print('name=%s, symbol=%s, number=%s'% (self.name, self.symbol, self.number) )\n",
    "        \n"
   ]
  },
  {
   "cell_type": "code",
   "execution_count": null,
   "id": "376faffe",
   "metadata": {},
   "outputs": [],
   "source": [
    "a =Element('Hydrogen','H',1)"
   ]
  },
  {
   "cell_type": "code",
   "execution_count": null,
   "id": "fee0e900",
   "metadata": {},
   "outputs": [],
   "source": [
    "a.name"
   ]
  },
  {
   "cell_type": "code",
   "execution_count": null,
   "id": "decb997c",
   "metadata": {},
   "outputs": [],
   "source": [
    "#Make a dictionary with these keys and values: &#39;name&#39;: &#39;Hydrogen&#39;, &#39;symbol&#39;: &#39;H&#39;, &#39;number&#39;: 1. Then,\n",
    "#create an object called hydrogen from class Element using this dictionary.\n",
    "\n",
    "a = {'name':'hydrogen', 'symbol':'H', 'number':1}\n",
    "\n",
    "hydrogen = Element(**a)"
   ]
  },
  {
   "cell_type": "code",
   "execution_count": null,
   "id": "aace885a",
   "metadata": {},
   "outputs": [],
   "source": [
    "#For the Element class, define a method called dump() that prints the values of the object’s\n",
    "#attributes (name, symbol, and number). Create the hydrogen object from this new definition and use dump() to print its attributes.\n",
    "\n",
    "class Element(): \n",
    "    def __init__(self ,name,symbol,number):\n",
    "        self.name = name\n",
    "        self.symbol = symbol\n",
    "        self.number = number\n",
    "    def dump(self):\n",
    "        print('name=%s, symbol=%s, number=%s'% (self.name, self.symbol, self.number) )\n",
    "hydrogen = Element(**a)\n",
    "hydrogen.dump()"
   ]
  },
  {
   "cell_type": "code",
   "execution_count": null,
   "id": "f37d15a7",
   "metadata": {},
   "outputs": [],
   "source": [
    "#Call print(hydrogen). In the definition of Element, change the name of method dump to __str__,\n",
    "#create a new hydrogen object, and call print(hydrogen) again.\n",
    "print(hydrogen)"
   ]
  },
  {
   "cell_type": "code",
   "execution_count": null,
   "id": "2f793c73",
   "metadata": {},
   "outputs": [],
   "source": [
    "#Modify Element to make the attributes name, symbol, and number private. Define a getter property for each to return its value.\n",
    "\n",
    "class Element(): \n",
    "    def __init__(self ,name,symbol,number):\n",
    "        self.__name = name\n",
    "        self.__symbol = symbol\n",
    "        self.__number = number\n",
    "    @property\n",
    "    def name(self):\n",
    "        return (self.__name)\n",
    "    @property\n",
    "    def symbol(self):\n",
    "        return (self.__symbol)\n",
    "    @property\n",
    "    def number(self):\n",
    "        return (self.__number)\n",
    "    \n",
    "hydrogen = Element(**a)\n",
    "hydrogen.name"
   ]
  },
  {
   "cell_type": "code",
   "execution_count": null,
   "id": "19909dcc",
   "metadata": {},
   "outputs": [],
   "source": [
    "#Define three classes: Bear, Rabbit, and Octothorpe. For each, define only one method: eats(). This\n",
    "#should return &#39;berries&#39; (Bear), &#39;clover&#39; (Rabbit), or &#39;campers&#39; (Octothorpe). Create one object from\n",
    "#each and print what it eats.\n",
    "\n",
    "class Bear():\n",
    "    def eat():\n",
    "        print('berries')\n",
    "class Rabbit():\n",
    "    def eat():\n",
    "        print('clover')\n",
    "class Octothorpe():\n",
    "    def eat():\n",
    "        print('campers')\n",
    "        "
   ]
  },
  {
   "cell_type": "code",
   "execution_count": null,
   "id": "df3514d4",
   "metadata": {},
   "outputs": [],
   "source": [
    "Bear.eat()\n",
    "Rabbit.eat()\n",
    "Octothorpe.eat()"
   ]
  },
  {
   "cell_type": "code",
   "execution_count": null,
   "id": "e0b8d41e",
   "metadata": {},
   "outputs": [],
   "source": [
    "#Define these classes: Laser, Claw, and SmartPhone. Each has only one method: does(). This\n",
    "#returns &#39;disintegrate&#39; (Laser), &#39;crush&#39; (Claw), or &#39;ring&#39; (SmartPhone). Then, define the class Robot that\n",
    "#has one instance (object) of each of these. Define a does() method for the Robot that prints what its\n",
    "#component objects do.\n",
    "\n",
    "class Laser:\n",
    "    def does(self):\n",
    "        return('disitegrate')\n",
    "class Claw:\n",
    "    def does(self):\n",
    "        return('crush')\n",
    "class SmartPhone:\n",
    "    def does(self):\n",
    "        return('ring')\n",
    "        \n",
    "class Robot:\n",
    "    def __init__(self):\n",
    "        self.laser = Laser()\n",
    "        self.claw = Claw()\n",
    "        self.smartphone = SmartPhone()\n",
    "    def does(self):\n",
    "        return ('Laser is %s, Claw is %s, SmartPhone is %s' % (self.laser.does(),self.claw.does(),self.smartphone.does()))"
   ]
  },
  {
   "cell_type": "code",
   "execution_count": null,
   "id": "b21c73f8",
   "metadata": {},
   "outputs": [],
   "source": [
    "r = Robot()\n",
    "\n",
    "print(r.does())"
   ]
  }
 ],
 "metadata": {
  "kernelspec": {
   "display_name": "Python 3",
   "language": "python",
   "name": "python3"
  },
  "language_info": {
   "codemirror_mode": {
    "name": "ipython",
    "version": 3
   },
   "file_extension": ".py",
   "mimetype": "text/x-python",
   "name": "python",
   "nbconvert_exporter": "python",
   "pygments_lexer": "ipython3",
   "version": "3.8.10"
  }
 },
 "nbformat": 4,
 "nbformat_minor": 5
}
