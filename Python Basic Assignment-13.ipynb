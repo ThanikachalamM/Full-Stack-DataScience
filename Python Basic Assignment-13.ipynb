{
 "cells": [
  {
   "cell_type": "code",
   "execution_count": null,
   "id": "82700030",
   "metadata": {},
   "outputs": [],
   "source": [
    "#What advantages do Excel spreadsheets have over CSV spreadsheets?\n",
    "Excel is more superior when compared with the CSV file format; thus, CSV consumes less amount of file size when the user is importing data; it is a much faster format compared to excel. CSV does not manipulate data and stores it as-is. Excel also allows the user the add-in feature\n",
    "#2.What do you pass to csv.reader() and csv.writer() to create reader and writer objects?\n",
    "\n",
    "import csv\n",
    "with open('people.csv', 'r') as file:\n",
    "    reader = csv.reader(file)\n",
    "    for row in reader:\n",
    "        print(row)\n",
    "        \n",
    "import csv\n",
    "with open('protagonist.csv', 'w', newline='') as file:\n",
    "    writer = csv.writer(file)\n",
    "    writer.writerow([\"SN\", \"Movie\", \"Protagonist\"])\n",
    "    writer.writerow([1, \"Lord of the Rings\", \"Frodo Baggins\"])\n",
    "    writer.writerow([2, \"Harry Potter\", \"Harry Potter\"])\n",
    "    \n",
    "#What modes do File objects for reader and writer objects need to be opened in?\n",
    "In order to open a file for reading or writing purposes, we must use the built-in open() function. The open() function uses two arguments. First is the name of the file and second is for what purpose we want to open it \n",
    "\n",
    "#What method takes a list argument and writes it to a CSV file?\n",
    "writerows()\n",
    "\n",
    "#What do the keyword arguments delimiter and line terminator do?\n",
    "The line terminator is the character that comes at the end of a row. By default, the line terminator is a newline. You can change characters to different values by using the delimiter and lineterminator keyword arguments with csv. writer()\n",
    "\n",
    "#What function takes a string of JSON data and returns a Python data structure?\n",
    "The encode() function is used to convert the python object into a JSON string representation\n",
    "\n",
    "#What function takes a Python data structure and returns a string of JSON data?\n",
    "loads() method return Python data structure of JSON string or data\n"
   ]
  }
 ],
 "metadata": {
  "kernelspec": {
   "display_name": "Python 3",
   "language": "python",
   "name": "python3"
  },
  "language_info": {
   "codemirror_mode": {
    "name": "ipython",
    "version": 3
   },
   "file_extension": ".py",
   "mimetype": "text/x-python",
   "name": "python",
   "nbconvert_exporter": "python",
   "pygments_lexer": "ipython3",
   "version": "3.8.10"
  }
 },
 "nbformat": 4,
 "nbformat_minor": 5
}
