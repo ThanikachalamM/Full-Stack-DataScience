{
 "cells": [
  {
   "cell_type": "code",
   "execution_count": null,
   "id": "06a36413",
   "metadata": {},
   "outputs": [],
   "source": [
    "#Describe three applications for exception processing.\n",
    "AssertionError\tRaised when the assert statement fails.\n",
    "AttributeError\tRaised on the attribute assignment or reference fails.\n",
    "EOFError\tRaised when the input() function hits the end-of-file condition.\n",
    "FloatingPointError\tRaised when a floating point operation fails.\n",
    "GeneratorExit\tRaised when a generator's close() method is called.\n",
    "ImportError\tRaised when the imported module is not found.\n",
    "IndexError\tRaised when the index of a sequence is out of range.\n",
    "KeyError\tRaised when a key is not found in a dictionary.\n",
    "KeyboardInterrupt\tRaised when the user hits the interrupt key (Ctrl+c or delete).\n",
    "MemoryError\tRaised when an operation runs out of memory.\n",
    "NameError\tRaised when a variable is not found in the local or global scope.\n",
    "NotImplementedError\tRaised by abstract methods.\n",
    "OSError\tRaised when a system operation causes a system-related error.\n",
    "OverflowError\tRaised when the result of an arithmetic operation is too large to be represented.\n",
    "ReferenceError\tRaised when a weak reference proxy is used to access a garbage collected referent.\n",
    "RuntimeError\tRaised when an error does not fall under any other category.\n",
    "StopIteration\tRaised by the next() function to indicate that there is no further item to be returned by the iterator.\n",
    "SyntaxError\tRaised by the parser when a syntax error is encountered.\n",
    "IndentationError\tRaised when there is an incorrect indentation.\n",
    "TabError\tRaised when the indentation consists of inconsistent tabs and spaces.\n",
    "SystemError\tRaised when the interpreter detects internal error.\n",
    "SystemExit\tRaised by the sys.exit() function.\n",
    "TypeError\tRaised when a function or operation is applied to an object of an incorrect type.\n",
    "UnboundLocalError\tRaised when a reference is made to a local variable in a function or method, but no value has been bound to that variable.\n",
    "UnicodeError\tRaised when a Unicode-related encoding or decoding error occurs.\n",
    "UnicodeEncodeError\tRaised when a Unicode-related error occurs during encoding.\n",
    "UnicodeDecodeError\tRaised when a Unicode-related error occurs during decoding.\n",
    "UnicodeTranslateError\tRaised when a Unicode-related error occurs during translation.\n",
    "ValueError\tRaised when a function gets an argument of correct type but improper value.\n",
    "ZeroDivisionError\tRaised when the second operand of a division or module operation is zero."
   ]
  },
  {
   "cell_type": "code",
   "execution_count": null,
   "id": "dfd94a6a",
   "metadata": {},
   "outputs": [],
   "source": [
    "#What happens if you don't do something extra to treat an exception?\n",
    "execution will stoped\n",
    "#What are your options for recovering from an exception in your script?\n",
    "\n",
    "Error handling increases the robustness of your code, which guards against potential failures that would cause your program to exit in an uncontrolled fashion\n",
    "#Describe two methods for triggering exceptions in your script.\n",
    "Try – This method catches the exceptions raised by the program.\n",
    "Raise – Triggers an exception manually using custom exceptions.\n",
    "#Identify two methods for specifying actions to be executed at termination time, regardless of whether or not an exception exists.\n",
    "The subsequent block will be executed only if the specified exception occurs. There may be multiple except clauses with different exception types in a single try block. ... of the except blocks, it will remain unhandled and the program will terminate. ... continue to be executed, regardless if the exception is encountered or not.\n"
   ]
  }
 ],
 "metadata": {
  "kernelspec": {
   "display_name": "Python 3",
   "language": "python",
   "name": "python3"
  },
  "language_info": {
   "codemirror_mode": {
    "name": "ipython",
    "version": 3
   },
   "file_extension": ".py",
   "mimetype": "text/x-python",
   "name": "python",
   "nbconvert_exporter": "python",
   "pygments_lexer": "ipython3",
   "version": "3.8.10"
  }
 },
 "nbformat": 4,
 "nbformat_minor": 5
}
