{
 "cells": [
  {
   "cell_type": "code",
   "execution_count": null,
   "id": "7f12e530",
   "metadata": {},
   "outputs": [],
   "source": [
    "#What is the meaning of multiple inheritance?\n",
    "Multiple inheritance is a feature of some object-oriented computer programming languages in which an object or class can inherit characteristics and features from more than one parent object or parent class.\n",
    "#What is the concept of delegation?\n",
    "Delegation is commonly defined as the shifting of authority and responsibility for particular functions, tasks or decisions from one person (usually a leader or manager) to another. ... Delegation does not involve telling people what to do.\n",
    "#What is the concept of composition?\n",
    "Composition is another word for writing — the act of writing or the piece of writing that results. It also refers to what something is made of. The word composition comes from the Latin componere, meaning \"put together\" and its meaning remains close to this. ... Any mixture of ingredients can be called a composition.\n",
    "#What are bound methods and how do we use them?\n",
    "A bound method is the one which is dependent on the instance of the class as the first argument. It passes the instance as the first argument which is used to access the variables and functions. In Python 3 and newer versions of python, all functions in the class are by default bound methods\n",
    "#What is the purpose of pseudoprivate attributes?\n",
    "One of the main problems that the pseudoprivate attribute feature is meant to alleviate has to do with the way instance attributes are stored. In Python, all instance attributes wind up in the single instance object at the bottom of the class tree\n"
   ]
  }
 ],
 "metadata": {
  "kernelspec": {
   "display_name": "Python 3",
   "language": "python",
   "name": "python3"
  },
  "language_info": {
   "codemirror_mode": {
    "name": "ipython",
    "version": 3
   },
   "file_extension": ".py",
   "mimetype": "text/x-python",
   "name": "python",
   "nbconvert_exporter": "python",
   "pygments_lexer": "ipython3",
   "version": "3.8.10"
  }
 },
 "nbformat": 4,
 "nbformat_minor": 5
}
