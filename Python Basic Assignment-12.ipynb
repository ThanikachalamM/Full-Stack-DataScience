{
 "cells": [
  {
   "cell_type": "code",
   "execution_count": null,
   "id": "b0e94916",
   "metadata": {},
   "outputs": [],
   "source": [
    "#1.In what modes should the PdfFileReader() and PdfFileWriter() File objects will be opened?\n",
    " import PyPDF2\n",
    " pdfFileObj = open('meetingminutes.pdf', 'rb')\n",
    " pdfReader = PyPDF2.PdfFileReader(pdfFileObj)\n",
    " pdfReader.numPages\n",
    " pageObj = pdfReader.getPage(0)\n",
    " pageObj.extractText()"
   ]
  },
  {
   "cell_type": "code",
   "execution_count": null,
   "id": "dffe42ef",
   "metadata": {},
   "outputs": [],
   "source": []
  },
  {
   "cell_type": "code",
   "execution_count": null,
   "id": "fe87cade",
   "metadata": {},
   "outputs": [],
   "source": []
  },
  {
   "cell_type": "code",
   "execution_count": null,
   "id": "2a0eb3cd",
   "metadata": {},
   "outputs": [],
   "source": [
    "#2.From a PdfFileReader object, how do you get a Page object for page 5?\n",
    "To extract text from a page, you need to get a Page object, which represents a single page of a PDF, from a PdfFileReader object. You can get a Page object by calling the getPage() method  on a PdfFileReader object and passing it the page number of the page you're interested in\n"
   ]
  },
  {
   "cell_type": "code",
   "execution_count": null,
   "id": "9e435c68",
   "metadata": {},
   "outputs": [],
   "source": [
    "#3.What PdfFileReader variable stores the number of pages in the PDF document?\n",
    "The total number of pages in the document is stored in the numPages attribute of a PdfFileReader object"
   ]
  },
  {
   "cell_type": "code",
   "execution_count": null,
   "id": "5d5c7b3c",
   "metadata": {},
   "outputs": [],
   "source": [
    "#4.If a PdfFileReader object’s PDF is encrypted with the password swordfish, what must you do before you can obtain Page objects from it?\n",
    "Call decrypt('swordfish')"
   ]
  },
  {
   "cell_type": "code",
   "execution_count": null,
   "id": "1636a18a",
   "metadata": {},
   "outputs": [],
   "source": [
    "#What methods do you use to rotate a page?\n",
    "import PyPDF2\n",
    "minutesFile = open('meetingminutes.pdf', 'rb')\n",
    "pdfReader = PyPDF2.PdfFileReader(minutesFile)\n",
    "page = pdfReader.getPage(0)\n",
    "page.rotateClockwise(90)"
   ]
  },
  {
   "cell_type": "code",
   "execution_count": null,
   "id": "8f36837b",
   "metadata": {},
   "outputs": [],
   "source": [
    "#What is the difference between a Run object and a Paragraph object?\n",
    "A document contains multiple paragraphs. A paragraph begins on a new line and contains multiple runs. Runs are contiguous groups of characters within a paragraph.\n"
   ]
  },
  {
   "cell_type": "code",
   "execution_count": null,
   "id": "deef3728",
   "metadata": {},
   "outputs": [],
   "source": [
    "#How do you obtain a list of Paragraph objects for a Document object that’s stored in a variable named doc?\n",
    "Use doc.paragraphs.\n"
   ]
  },
  {
   "cell_type": "code",
   "execution_count": null,
   "id": "3d60bab3",
   "metadata": {},
   "outputs": [],
   "source": [
    "#What type of object has bold, underline, italic, strike, and outline variables?\n",
    "A Run object has these variables (not a paragraph)\n",
    "#What is the difference between False, True, and None for the bold variable?\n",
    "True always makes the Run object bolded and False makes it always not bolded, no matter what the style's bold setting is. None will make the Run object just use the style's bold setting.\n",
    "#How do you create a Document object for a new Word document?\n",
    "Call the docx.Document() function.\n",
    "#How do you add a paragraph with the text 'Hello, there!' to a Document object stored in a variable named doc?\n",
    "doc.add_paragraph('Hello there!')\n",
    "#What integers represent the levels of headings available in Word documents?\n",
    "The integers 0,1,2,3, and 4"
   ]
  }
 ],
 "metadata": {
  "kernelspec": {
   "display_name": "Python 3",
   "language": "python",
   "name": "python3"
  },
  "language_info": {
   "codemirror_mode": {
    "name": "ipython",
    "version": 3
   },
   "file_extension": ".py",
   "mimetype": "text/x-python",
   "name": "python",
   "nbconvert_exporter": "python",
   "pygments_lexer": "ipython3",
   "version": "3.8.10"
  }
 },
 "nbformat": 4,
 "nbformat_minor": 5
}
