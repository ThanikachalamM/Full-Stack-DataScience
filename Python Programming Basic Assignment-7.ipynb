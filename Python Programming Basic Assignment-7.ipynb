{
 "cells": [
  {
   "cell_type": "code",
   "execution_count": 1,
   "id": "stainless-entertainment",
   "metadata": {},
   "outputs": [
    {
     "name": "stdout",
     "output_type": "stream",
     "text": [
      "Sum of the array is  34\n"
     ]
    }
   ],
   "source": [
    "#1.Write a Python Program to find sum of array?\n",
    " \n",
    "def _sum(arr): \n",
    "    # initialize a variable to store the sum while iterating through the array later \n",
    "    sum=0\n",
    "    # iterate through the array and add each element to the sum variable one at a time \n",
    "    for i in arr: \n",
    "        sum = sum + i \n",
    "    return(sum) \n",
    "\n",
    "# driver function \n",
    "arr=[] \n",
    "# input values to list \n",
    "arr = [12, 3, 4, 15] \n",
    "\n",
    "# calculating length of array \n",
    "n = len(arr) \n",
    "\n",
    "ans = _sum(arr) \n",
    "\n",
    "# display sum \n",
    "print ('Sum of the array is ', ans) \n",
    "\n"
   ]
  },
  {
   "cell_type": "code",
   "execution_count": 5,
   "id": "lyric-colony",
   "metadata": {},
   "outputs": [
    {
     "name": "stdout",
     "output_type": "stream",
     "text": [
      "Largest in given array is 9808\n",
      "Easy method to find max(list) Largest in given array is 9808\n"
     ]
    }
   ],
   "source": [
    "#2.Write a Python Program to find largest element in an array?\n",
    "# python function to find maximum in arr[] of size n\n",
    "def largest(arr,n):\n",
    "\n",
    "    # Initialize maximum element\n",
    "    max = arr[0]\n",
    "\n",
    "    # Traverse array elements from second and compare every element with current max\n",
    "    for i in range(1, n):\n",
    "        if arr[i] > max:\n",
    "            max = arr[i]\n",
    "    return max\n",
    "\n",
    "# Driver Code\n",
    "arr = [10, 324, 45, 90, 9808]\n",
    "n = len(arr)\n",
    "Ans = largest(arr,n)\n",
    "print (\"Largest in given array is\",Ans)\n",
    "\n",
    "# Easy method\n",
    "print (\"Easy method to find max(list) Largest in given array is\",max(arr))"
   ]
  },
  {
   "cell_type": "code",
   "execution_count": 6,
   "id": "taken-bookmark",
   "metadata": {},
   "outputs": [
    {
     "name": "stdout",
     "output_type": "stream",
     "text": [
      "[1, 2, 3, 4, 5, 6]\n",
      "Rotated list is\n",
      "[3, 4, 5, 6, 1, 2]\n"
     ]
    }
   ],
   "source": [
    "#3.Write a Python Program for array rotation?\n",
    "# Python program using the List slicing approch to rotate the array\n",
    "def rotateList(arr,d,n):\n",
    "   arr[:]=arr[d:n]+arr[0:d]\n",
    "   return arr\n",
    "# Driver function to test above function\n",
    "arr = [1, 2, 3, 4, 5, 6]\n",
    "print(arr)\n",
    "print(\"Rotated list is\")\n",
    "print(rotateList(arr,2,len(arr)))\n",
    "\n",
    "\n"
   ]
  },
  {
   "cell_type": "code",
   "execution_count": 8,
   "id": "raised-gothic",
   "metadata": {},
   "outputs": [
    {
     "name": "stdout",
     "output_type": "stream",
     "text": [
      "5 6 52 36 12 10 "
     ]
    }
   ],
   "source": [
    "#4.Write a Python Program to Split the array and add the first part to the end?\n",
    "# Python program to split array and move first part to end. \n",
    "\n",
    "def splitArr(a, n, k): \n",
    "    b = a[:k] \n",
    "    return (a[k::]+b[::]) \n",
    "\n",
    "\n",
    "# main \n",
    "arr = [12, 10, 5, 6, 52, 36] \n",
    "n = len(arr) \n",
    "position = 2\n",
    "arr = splitArr(arr, n, position) \n",
    "for i in range(0, n): \n",
    "    print(arr[i], end = ' ') \n"
   ]
  },
  {
   "cell_type": "code",
   "execution_count": 9,
   "id": "religious-freight",
   "metadata": {},
   "outputs": [
    {
     "name": "stdout",
     "output_type": "stream",
     "text": [
      "True\n"
     ]
    }
   ],
   "source": [
    "#5.Write a Python Program to check if given array is Monotonic?\n",
    "# Python3 program to find sum in Nth group \n",
    "\n",
    "# Check if given array is Monotonic \n",
    "def isMonotonic(A): \n",
    "\n",
    "    return (all(A[i] <= A[i + 1] for i in range(len(A) - 1)) or\n",
    "            all(A[i] >= A[i + 1] for i in range(len(A) - 1))) \n",
    "\n",
    "# Driver program \n",
    "A = [6, 5, 4, 4] \n",
    "\n",
    "# Print required result \n",
    "print(isMonotonic(A)) \n",
    "\n",
    "\n"
   ]
  },
  {
   "cell_type": "code",
   "execution_count": null,
   "id": "polyphonic-hawaii",
   "metadata": {},
   "outputs": [],
   "source": []
  }
 ],
 "metadata": {
  "kernelspec": {
   "display_name": "Python 3",
   "language": "python",
   "name": "python3"
  },
  "language_info": {
   "codemirror_mode": {
    "name": "ipython",
    "version": 3
   },
   "file_extension": ".py",
   "mimetype": "text/x-python",
   "name": "python",
   "nbconvert_exporter": "python",
   "pygments_lexer": "ipython3",
   "version": "3.8.8"
  }
 },
 "nbformat": 4,
 "nbformat_minor": 5
}
