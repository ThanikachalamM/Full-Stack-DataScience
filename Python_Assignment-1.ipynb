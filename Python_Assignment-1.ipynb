{
  "nbformat": 4,
  "nbformat_minor": 0,
  "metadata": {
    "colab": {
      "name": "Untitled0.ipynb",
      "provenance": [],
      "collapsed_sections": []
    },
    "kernelspec": {
      "name": "python3",
      "display_name": "Python 3"
    }
  },
  "cells": [
    {
      "cell_type": "code",
      "metadata": {
        "id": "RFHybmEaoKnH"
      },
      "source": [
        ""
      ],
      "execution_count": null,
      "outputs": []
    },
    {
      "cell_type": "markdown",
      "metadata": {
        "id": "q5-8-CApoNCS"
      },
      "source": [
        "1. What are the differences between operators and values in the following?\r\n",
        "*  Multiplication operator \r\n",
        "(Eg-1) \r\n",
        "a,b=4,5\r\n",
        "print(a*b)\r\n",
        "o/p:-  20\r\n",
        "(Eg-2)\r\n",
        "a,b=’thanika’,3\r\n",
        "print(a*b)\r\n",
        "o/p:-  thanikathanikathanika\r\n",
        "\r\n",
        "'hello'  this is string value\r\n",
        "-87.8 this is value\r\n",
        "-  Subtraction operator  \r\n",
        "/ division questions with remainders\r\n",
        "+ Addition operator \r\n",
        "(Eg-1) \r\n",
        "a,b=4,5\r\n",
        "print(a+b)\r\n",
        "o/p:-  9\r\n",
        "(Eg-2)\r\n",
        "a,b=’thanika’,’3’\r\n",
        "print(a+b)\r\n",
        "o/p:-  thanika3\r\n",
        "\r\n",
        "6  int value six \r\n"
      ]
    },
    {
      "cell_type": "markdown",
      "metadata": {
        "id": "iVMkYFugok_t"
      },
      "source": [
        "2. What is the difference between string and variable?\r\n",
        "Spam  variable, we can assign any values\r\n",
        "'spam' string, will assign to any variables \r\n"
      ]
    },
    {
      "cell_type": "markdown",
      "metadata": {
        "id": "irOarR4BotLL"
      },
      "source": [
        "3. Describe three different data forms.\r\n",
        " \r\n",
        "Numeric\r\n",
        "In Python, numeric data type represent the data which has numeric value. Nu-meric value can be integer, floating number or even complex numbers. These values are defined as int, float and complex class in Python.\r\n",
        "•\tIntegers – This value is represented by int class. It contains positive or neg-ative whole numbers (without fraction or decimal). In Python there is no limit to how long an integer value can be.\r\n",
        "•\tFloat – This value is represented by float class. It is a real number with float-ing point representation. It is specified by a decimal point. Optionally, the character e or E followed by a positive or negative integer may be appended to specify scientific notation.\r\n",
        "•\tComplex Numbers – Complex number is represented by complex class. It is specified as (real part) + (imaginary part)j. For example – 2+3j\r\n",
        "\r\n",
        "Sequence Type\r\n",
        "In Python, sequence is the ordered collection of similar or different data types. Sequences allows to store multiple values in an organized and efficient fashion. There are several sequence types in Python –\r\n",
        "•\tString\r\n",
        "•\tList\r\n",
        "•\tTuple\r\n",
        "1) String\r\n",
        "In Python, Strings are arrays of bytes representing Unicode characters. A string is a collection of one or more characters put in a single quote, double-quote or triple quote. In python there is no character data type, a character is a string of length one. It is represented by str class.\r\n",
        "\r\n",
        "2) List\r\n",
        "Lists are just like the arrays, declared in other languages which is a ordered col-lection of data. It is very flexible as the items in a list do not need to be of the same type.\r\n",
        "\r\n",
        "3) Tuple\r\n",
        "Just like list, tuple is also an ordered collection of Python objects. The only dif-ference between type and list is that tuples are immutable i.e. tuples cannot be modified after it is created. It is represented by tuple class.\r\n",
        "\r\n",
        "Boolean\r\n",
        "Data type with one of the two built-in values, True or False. Boolean objects that are equal to True are truthy (true), and those equal to False are falsy (false). But non-Boolean objects can be evaluated in Boolean context as well and de-termined to be true or false. It is denoted by the class bool.\r\n",
        "\t\tset\r\n",
        "In Python, Set is an unordered collection of data type that is iterable, mutable and has no duplicate elements. The order of elements in a set is undefined though it may consist of various elements.\r\n"
      ]
    },
    {
      "cell_type": "markdown",
      "metadata": {
        "id": "Y7WAbGsMo2w5"
      },
      "source": [
        "4. What makes up an expression? What are the functions of all expressions?\r\n",
        "An expression is a combination of values, variables, operators, and calls to functions. Expressions need to be evaluated. If you ask Python to print an expression, the interpreter evaluates the expression and displays the result\r\n",
        "\r\n",
        "Expressions only contain identifiers, literals and operators, where operators include arithmetic and boolean operators, the function call operator () the subscription operator [] and similar, and can be reduced to some kind of \"value\", which can be any Python object\r\n"
      ]
    },
    {
      "cell_type": "markdown",
      "metadata": {
        "id": "6jcnKjHHo8ce"
      },
      "source": [
        "5. In this chapter, assignment statements such as spam = 10 were added. What's the difference between a declaration and an expression?\r\n",
        "An expression evaluates to a single value. A statement does not.\r\n",
        "\r\n",
        "Expressions only contain identifiers, literals and operators, where operators include arithmetic and boolean operators\r\n"
      ]
    },
    {
      "cell_type": "markdown",
      "metadata": {
        "id": "dDXU7szPpC_p"
      },
      "source": [
        "6. After running the following code, what does the variable bacon contain?\r\n",
        "bacon = 22\r\n",
        "bacon + 1\r\n",
        "\r\n",
        "O/p\r\n",
        "bacon still 22 only. \r\n",
        "The second statements adding value 1 in bacon and need to assign new variable but not changing bacon value \r\n"
      ]
    },
    {
      "cell_type": "markdown",
      "metadata": {
        "id": "iWNBivGtpI2q"
      },
      "source": [
        "7. What should the values of the following two terms be?\r\n",
        "\r\n",
        "'spam' + 'spamspam'   string concatenation using addition operator \r\n",
        "'spam' * 3  number of times repeat the string using Multiplication operator \r\n"
      ]
    },
    {
      "cell_type": "markdown",
      "metadata": {
        "id": "6iTy17u9pOxv"
      },
      "source": [
        "8. Why is it that eggs is a true variable name but 100 is not?\r\n",
        "Variable names cannot begin with a number\r\n"
      ]
    },
    {
      "cell_type": "markdown",
      "metadata": {
        "id": "VbTA-_6cpV1X"
      },
      "source": [
        "9. Which of the following three functions may be used to convert a value to an integer, a floating-point number, or a string?\r\n",
        "The int(), float(), and str() functions will evaluate to the integer, floating-point num-ber, and string versions of the value passed to them.\r\n"
      ]
    },
    {
      "cell_type": "markdown",
      "metadata": {
        "id": "X_BAP-Grpd8-"
      },
      "source": [
        "10. What is the error caused by this expression? What would you do about it?\r\n",
        "\r\n",
        "'I have eaten ' + 99 + ' burritos.'\r\n",
        "The expression causes an error because 99 is an integer, and only strings can be concatenated to other strings with the + operator. The correct way is I have eaten ' + str(99) + ' burritos.'.\r\n",
        "\r\n"
      ]
    }
  ]
}