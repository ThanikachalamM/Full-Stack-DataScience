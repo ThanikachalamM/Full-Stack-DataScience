{
 "cells": [
  {
   "cell_type": "code",
   "execution_count": 1,
   "id": "d128e05b",
   "metadata": {},
   "outputs": [
    {
     "name": "stdout",
     "output_type": "stream",
     "text": [
      "The original dictionary is : {'tft': [5, 6, 7, 8], 'is': [10, 11, 7, 5], 'best': [6, 12, 10, 8], 'for': [1, 2, 5]}\n",
      "The unique values list is : [1, 2, 5, 6, 7, 8, 10, 11, 12]\n"
     ]
    }
   ],
   "source": [
    "# 1.  Write a Python program to Extract Unique values dictionary values?\n",
    "\n",
    "# Extract Unique values dictionary values Using set comprehension + values() + sorted()\n",
    "  \n",
    "# initializing dictionary\n",
    "test_dict = {'tft' : [5, 6, 7, 8],\n",
    "             'is' : [10, 11, 7, 5],\n",
    "             'best' : [6, 12, 10, 8],\n",
    "             'for' : [1, 2, 5]}\n",
    "  \n",
    "# printing original dictionary\n",
    "print(\"The original dictionary is : \" + str(test_dict))\n",
    "  \n",
    "# Extract Unique values dictionary values Using set comprehension + values() + sorted()\n",
    "res = list(sorted({ele for val in test_dict.values() for ele in val}))\n",
    "  \n",
    "# printing result \n",
    "print(\"The unique values list is : \" + str(res))"
   ]
  },
  {
   "cell_type": "code",
   "execution_count": 2,
   "id": "c1538e52",
   "metadata": {},
   "outputs": [
    {
     "name": "stdout",
     "output_type": "stream",
     "text": [
      "Sum : 600\n"
     ]
    }
   ],
   "source": [
    "# 2. Write a Python program to find the sum of all items in a dictionary?\n",
    "\n",
    "#to find sum of all items in a Dictionary\n",
    "  \n",
    "# Function to print sum\n",
    "def returnSum(myDict):\n",
    "      \n",
    "    sum = 0\n",
    "    for i in myDict:\n",
    "        sum = sum + myDict[i]\n",
    "      \n",
    "    return sum\n",
    "  \n",
    "# Driver Function\n",
    "dict = {'a': 100, 'b':200, 'c':300}\n",
    "print(\"Sum :\", returnSum(dict))"
   ]
  },
  {
   "cell_type": "code",
   "execution_count": 3,
   "id": "782e12d2",
   "metadata": {},
   "outputs": [
    {
     "name": "stdout",
     "output_type": "stream",
     "text": [
      "None\n",
      "{'d': 6, 'c': 4, 'a': 10, 'b': 8}\n"
     ]
    }
   ],
   "source": [
    "# 3. Write a Python program to Merging two Dictionaries?\n",
    "\n",
    "def Merge(dict1, dict2):\n",
    "    return(dict2.update(dict1))\n",
    "     \n",
    "# Driver code\n",
    "dict1 = {'a': 10, 'b': 8}\n",
    "dict2 = {'d': 6, 'c': 4}\n",
    " \n",
    "# This return None\n",
    "print(Merge(dict1, dict2))\n",
    " \n",
    "# changes made in dict2\n",
    "print(dict2)"
   ]
  },
  {
   "cell_type": "code",
   "execution_count": 12,
   "id": "f06130fc",
   "metadata": {},
   "outputs": [
    {
     "name": "stdout",
     "output_type": "stream",
     "text": [
      "Given array:\n",
      " [{'Mon': 2}, {'Tue': 11}, {'Wed': 3}]\n",
      "Flattened object:\n",
      "  {'Mon': 2, 'Tue': 11, 'Wed': 3}\n"
     ]
    }
   ],
   "source": [
    "# 4. Write a Python program to convert key-values list to flat dictionary?\n",
    "\n",
    "from functools import reduce\n",
    "listA = [{'Mon':2}, {'Tue':11}, {'Wed':3}]\n",
    "# printing given arrays\n",
    "print(\"Given array:\\n\",listA)\n",
    "#print(\"Type of Object:\\n\",type(listA))\n",
    "# Using reduce and update\n",
    "res = reduce(lambda d, src: d.update(src) or d, listA, {})\n",
    "# Result\n",
    "print(\"Flattened object:\\n \", res)\n",
    "#print(\"Type of flattened Object:\\n\",type(res))"
   ]
  },
  {
   "cell_type": "code",
   "execution_count": 13,
   "id": "740511e5",
   "metadata": {},
   "outputs": [
    {
     "name": "stdout",
     "output_type": "stream",
     "text": [
      "Resultant Dictionary : OrderedDict([('man', '3'), ('at', '1'), ('nil', '2')])\n"
     ]
    }
   ],
   "source": [
    "# 5. Write a Python program to insertion at the beginning in OrderedDict?\n",
    "\n",
    "from collections import OrderedDict\n",
    "  \n",
    "# initialising ordered_dict\n",
    "iniordered_dict = OrderedDict([('at', '1'), ('nil', '2')])\n",
    "  \n",
    "# inserting items in starting of dict \n",
    "iniordered_dict.update({'man':'3'})\n",
    "iniordered_dict.move_to_end('man', last = False)\n",
    "  \n",
    "# print result\n",
    "print (\"Resultant Dictionary : \"+str(iniordered_dict))"
   ]
  },
  {
   "cell_type": "code",
   "execution_count": 14,
   "id": "f48ce2a2",
   "metadata": {},
   "outputs": [
    {
     "name": "stdout",
     "output_type": "stream",
     "text": [
      "true\n"
     ]
    }
   ],
   "source": [
    "# 6. Write a Python program to check order of character in string using OrderedDict()?\n",
    "\n",
    "# characters defined by a pattern \n",
    "from collections import OrderedDict \n",
    "  \n",
    "def checkOrder(input, pattern): \n",
    "      \n",
    "    # create empty OrderedDict output will be like {'a': None,'b': None, 'c': None} \n",
    "    dict = OrderedDict.fromkeys(input) \n",
    "  \n",
    "    # traverse generated OrderedDict parallel with pattern string to check if order of characters  are same or not \n",
    "    ptrlen = 0\n",
    "    for key,value in dict.items(): \n",
    "        if (key == pattern[ptrlen]): \n",
    "            ptrlen = ptrlen + 1\n",
    "          \n",
    "        # check if we have traverse complete  pattern string \n",
    "        if (ptrlen == (len(pattern))): \n",
    "            return 'true'\n",
    "  \n",
    "    # if we come out from for loop that means  order was mismatched \n",
    "    return 'false'\n",
    "  \n",
    "# Driver program \n",
    "if __name__ == \"__main__\": \n",
    "    input = 'engineers rock'\n",
    "    pattern = 'egr'\n",
    "    print (checkOrder(input,pattern)) \n"
   ]
  },
  {
   "cell_type": "code",
   "execution_count": 15,
   "id": "8830a4e8",
   "metadata": {},
   "outputs": [
    {
     "name": "stdout",
     "output_type": "stream",
     "text": [
      "Task 1:-\n",
      "\n",
      "Keys are\n",
      "1 2 3 4 5 6 "
     ]
    }
   ],
   "source": [
    "# 7. Write a Python program to sort Python Dictionaries by Key or Value?\n",
    "\n",
    "# Function calling\n",
    "def dictionairy(): \n",
    " # Declare hash function      \n",
    " key_value ={}    \n",
    "  \n",
    "# Initializing value \n",
    " key_value[2] = 56       \n",
    " key_value[1] = 2 \n",
    " key_value[5] = 12 \n",
    " key_value[4] = 24\n",
    " key_value[6] = 18      \n",
    " key_value[3] = 323 \n",
    "  \n",
    " print (\"Task 1:-\\n\")\n",
    " print (\"Keys are\")\n",
    "   \n",
    " # iterkeys() returns an iterator over the  dictionary’s keys.\n",
    " for i in sorted (key_value.keys()) : \n",
    "     print(i, end = \" \")\n",
    "  \n",
    "def main():\n",
    "    # function calling\n",
    "    dictionairy()             \n",
    "      \n",
    "# Main function calling\n",
    "if __name__==\"__main__\":      \n",
    "    main()\n"
   ]
  },
  {
   "cell_type": "code",
   "execution_count": null,
   "id": "d49d69bb",
   "metadata": {},
   "outputs": [],
   "source": []
  }
 ],
 "metadata": {
  "kernelspec": {
   "display_name": "Python 3",
   "language": "python",
   "name": "python3"
  },
  "language_info": {
   "codemirror_mode": {
    "name": "ipython",
    "version": 3
   },
   "file_extension": ".py",
   "mimetype": "text/x-python",
   "name": "python",
   "nbconvert_exporter": "python",
   "pygments_lexer": "ipython3",
   "version": "3.8.8"
  }
 },
 "nbformat": 4,
 "nbformat_minor": 5
}
