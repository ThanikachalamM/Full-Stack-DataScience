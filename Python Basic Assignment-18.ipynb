{
 "cells": [
  {
   "cell_type": "code",
   "execution_count": null,
   "id": "a8f1aee6",
   "metadata": {},
   "outputs": [],
   "source": [
    "#Create a plain dictionary with the key-value pairs &#39;a&#39;: 1, &#39;b&#39;: 2, and &#39;c&#39;: 3, and print it out.\n",
    "plain = {'a':1,'b':2,'c':3}\n",
    "\n",
    "#Make an OrderedDict called fancy from the same pairs listed in 5 and print it. Did it print in the same order as plain?\n",
    "from collections import OrderedDict\n",
    "fancy = OrderedDict(plain)\n",
    "\n",
    "#Make a default dictionary called dict_of_lists and pass it the argument list. Make the list\n",
    "#dict_of_lists[&#39;a&#39;] and append the value &#39;something for a&#39; to it in one assignment. Print\n",
    "#dict_of_lists[&#39;a&#39;].\n",
    "              \n",
    "from collections import defaultdict\n",
    "def some():\n",
    "    return 'something for a'\n",
    "\n",
    "dict_of_list = defaultdict(some)\n",
    "dict_of_list['a']"
   ]
  }
 ],
 "metadata": {
  "kernelspec": {
   "display_name": "Python 3",
   "language": "python",
   "name": "python3"
  },
  "language_info": {
   "codemirror_mode": {
    "name": "ipython",
    "version": 3
   },
   "file_extension": ".py",
   "mimetype": "text/x-python",
   "name": "python",
   "nbconvert_exporter": "python",
   "pygments_lexer": "ipython3",
   "version": "3.8.10"
  }
 },
 "nbformat": 4,
 "nbformat_minor": 5
}
