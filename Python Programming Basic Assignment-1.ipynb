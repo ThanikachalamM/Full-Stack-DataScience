{
 "cells": [
  {
   "cell_type": "code",
   "execution_count": 1,
   "id": "respiratory-clearance",
   "metadata": {},
   "outputs": [
    {
     "name": "stdout",
     "output_type": "stream",
     "text": [
      "Hello Python\n"
     ]
    }
   ],
   "source": [
    "#1.Write a Python program to print \"Hello Python\"?\n",
    "print(\"Hello Python\")"
   ]
  },
  {
   "cell_type": "code",
   "execution_count": 8,
   "id": "weekly-professor",
   "metadata": {},
   "outputs": [
    {
     "name": "stdout",
     "output_type": "stream",
     "text": [
      "Enter the non-zero numbers for addition and divisions: 5\n",
      "Enter the non-zero numbers for addition and divisions: 10\n",
      "Addition of5and10is:  15\n",
      "Division of5and10is:  0.5\n"
     ]
    }
   ],
   "source": [
    "#2.Write a Python program to do arithmetical operations addition and division.?\n",
    "a=int(input(\"Enter the non-zero numbers for addition and divisions: \"))\n",
    "b=int(input(\"Enter the non-zero numbers for addition and divisions: \"))\n",
    "print('Addition of'+ str(a) +'and' + str(b) +'is: ', a+b)\n",
    "if b!=0:\n",
    "    print('Division of'+ str(a) +'and' + str(b) +'is: ', a/b)"
   ]
  },
  {
   "cell_type": "code",
   "execution_count": 12,
   "id": "occupied-monster",
   "metadata": {},
   "outputs": [
    {
     "name": "stdout",
     "output_type": "stream",
     "text": [
      "Enter first side: 1\n",
      "Enter second side: 2\n",
      "Enter third side: 3\n",
      "The area of the triangle is 0.00\n"
     ]
    }
   ],
   "source": [
    "#3.Write a Python program to find the area of a triangle?\n",
    "# Three sides of the triangle is a, b and c:  \n",
    "a = float(input('Enter first side: '))  \n",
    "b = float(input('Enter second side: '))  \n",
    "c = float(input('Enter third side: '))  \n",
    "\n",
    "# calculate the semi-perimeter  \n",
    "s = (a + b + c) / 2  \n",
    "  \n",
    "# calculate the area  \n",
    "area = (s*(s-a)*(s-b)*(s-c)) ** 0.5  \n",
    "print('The area of the triangle is %0.2f' %area)   \n"
   ]
  },
  {
   "cell_type": "code",
   "execution_count": 15,
   "id": "sudden-sigma",
   "metadata": {},
   "outputs": [
    {
     "name": "stdout",
     "output_type": "stream",
     "text": [
      "Enter two numbers:6 7\n",
      "Before swap 6 7\n",
      "After swap 7 6\n"
     ]
    }
   ],
   "source": [
    "#4.Write a Python program to swap two variables?\n",
    "a,b=input(\"Enter two numbers:\").split(\" \")\n",
    "#b=input(\"Enter the numbers:\")\n",
    "print(\"Before swap\", a, b)\n",
    "a,b=b,a\n",
    "print(\"After swap\",a,b)"
   ]
  },
  {
   "cell_type": "code",
   "execution_count": 17,
   "id": "found-programming",
   "metadata": {},
   "outputs": [
    {
     "name": "stdout",
     "output_type": "stream",
     "text": [
      "0.5846241263441133\n",
      "8\n",
      "[14, 21, 22, 1, 6]\n"
     ]
    }
   ],
   "source": [
    "#5.Write a Python program to generate a random number?\n",
    "import random\n",
    "n = random.random()\n",
    "print(n)\n",
    "n = random.randint(0,22)\n",
    "print(n)\n",
    "randomlist = []\n",
    "for i in range(0,5):\n",
    "  n = random.randint(1,30)\n",
    "  randomlist.append(n)\n",
    "print(randomlist)\n"
   ]
  },
  {
   "cell_type": "code",
   "execution_count": null,
   "id": "homeless-appearance",
   "metadata": {},
   "outputs": [],
   "source": []
  }
 ],
 "metadata": {
  "kernelspec": {
   "display_name": "Python 3",
   "language": "python",
   "name": "python3"
  },
  "language_info": {
   "codemirror_mode": {
    "name": "ipython",
    "version": 3
   },
   "file_extension": ".py",
   "mimetype": "text/x-python",
   "name": "python",
   "nbconvert_exporter": "python",
   "pygments_lexer": "ipython3",
   "version": "3.8.8"
  }
 },
 "nbformat": 4,
 "nbformat_minor": 5
}
