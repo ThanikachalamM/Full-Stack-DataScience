{
 "cells": [
  {
   "cell_type": "code",
   "execution_count": null,
   "id": "34b9a276",
   "metadata": {},
   "outputs": [],
   "source": [
    "1. What are escape characters, and how do you use them?\n",
    "In Python strings, the backslash \"\\\" is a special character, also called the \"escape\" character. It is used in representing certain whitespace characters: \"\\t\" is a tab, \"\\n\" is a newline, and \"\\r\" is a carriage return. Conversely, prefixing a special character with \"\\\" turns it into an ordinary character.\n",
    "\n",
    "2. What do the escape characters n and t stand for?\n",
    "\"\\t\" is a tab, \"\\n\" is a newline\n",
    "\n",
    "3. What is the way to include backslash characters in a string?\n",
    "The \\\\ escape character will represent a backslash character.\n",
    "\n",
    "4. The string \"Howl's Moving Castle\"; is a correct value. Why isn&#39;t the single quote character in the\n",
    "word Howl's not escaped a problem?\n",
    "\n",
    "The single quote in Howl's is fine because you've used double quotes to mark the beginning and end of the string.\n",
    "\n",
    "5. If you don't want to put \\n in your string, how can you write a string with newlines in it?\n",
    "Multiline strings allow you to use newlines in strings without the \\n escape character.\n",
    "\n",
    "6. What do the following expressions evaluate to?\n",
    "'Hello world!'[1]\n",
    "e\n",
    "'Hello world!'[0:5]\n",
    "Hello\n",
    "'Hello world!'[:5]\n",
    "Hello\n",
    "'Hello world!'[3:]\n",
    "lo world\n",
    "\n",
    "7.What do the following expressions evaluate to?\n",
    "\n",
    "'Hello'.upper()\n",
    "HELLO\n",
    "'Hello'.upper().isupper()\n",
    "True\n",
    "'Hello'.upper().lower()\n",
    "hello\n",
    "\n",
    "8.What do the following expressions evaluate to?\n",
    "\n",
    "'Remember, remember, the fifth of November.'.split()\n",
    "\n",
    "'-'.join('There can be only one.'.split())\n",
    "\n",
    "\n",
    "['Remember,', 'remember,', 'the', 'fifth', 'of', 'November.']\n",
    "\n",
    "'There-can-be-only-one.\n",
    "\n",
    "9. What string methods can you use to right-justify, left-justify, and center a string?\n",
    "The rjust(), ljust(), and center() string methods, respectively\n",
    "\n",
    "10. How can you trim whitespace characters from the beginning or end of a string?\n",
    "The lstrip() and rstrip() methods remove whitespace from the left and right ends of a string, respectively."
   ]
  }
 ],
 "metadata": {
  "kernelspec": {
   "display_name": "Python 3",
   "language": "python",
   "name": "python3"
  },
  "language_info": {
   "codemirror_mode": {
    "name": "ipython",
    "version": 3
   },
   "file_extension": ".py",
   "mimetype": "text/x-python",
   "name": "python",
   "nbconvert_exporter": "python",
   "pygments_lexer": "ipython3",
   "version": "3.8.10"
  }
 },
 "nbformat": 4,
 "nbformat_minor": 5
}
