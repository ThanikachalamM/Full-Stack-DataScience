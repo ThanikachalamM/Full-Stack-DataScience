{
 "cells": [
  {
   "cell_type": "code",
   "execution_count": 12,
   "id": "f161e7c7",
   "metadata": {},
   "outputs": [
    {
     "data": {
      "text/plain": [
       "26"
      ]
     },
     "execution_count": 12,
     "metadata": {},
     "output_type": "execute_result"
    }
   ],
   "source": [
    "#Add the current date to the text file today.txt as a string.\n",
    "\n",
    "import datetime\n",
    "data = str(datetime.datetime.now())\n",
    "file1 =  open(\"today.txt\", \"w\") \n",
    "file1.write(data)\n"
   ]
  },
  {
   "cell_type": "code",
   "execution_count": 13,
   "id": "2b5fca4f",
   "metadata": {},
   "outputs": [
    {
     "name": "stdout",
     "output_type": "stream",
     "text": [
      "2021-07-11 14:28:16.996262\n"
     ]
    }
   ],
   "source": [
    "print(data)"
   ]
  },
  {
   "cell_type": "code",
   "execution_count": 14,
   "id": "f31f79ca",
   "metadata": {},
   "outputs": [
    {
     "name": "stdout",
     "output_type": "stream",
     "text": [
      "2021-07-11 14:27:53.515048\n"
     ]
    }
   ],
   "source": [
    "#Read the text file today.txt into the string today_string\n",
    "file2 =  open(\"today.txt\", \"r\") \n",
    "a=file2.read()\n",
    "print(a)"
   ]
  },
  {
   "cell_type": "code",
   "execution_count": 19,
   "id": "e80aed89",
   "metadata": {},
   "outputs": [
    {
     "ename": "TypeError",
     "evalue": "strptime() takes exactly 2 arguments (1 given)",
     "output_type": "error",
     "traceback": [
      "\u001b[1;31m---------------------------------------------------------------------------\u001b[0m",
      "\u001b[1;31mTypeError\u001b[0m                                 Traceback (most recent call last)",
      "\u001b[1;32m<ipython-input-19-dc01b77cce26>\u001b[0m in \u001b[0;36m<module>\u001b[1;34m\u001b[0m\n\u001b[0;32m      5\u001b[0m \u001b[0mdatetime_str\u001b[0m \u001b[1;33m=\u001b[0m \u001b[0ma\u001b[0m\u001b[1;33m\u001b[0m\u001b[1;33m\u001b[0m\u001b[0m\n\u001b[0;32m      6\u001b[0m \u001b[1;33m\u001b[0m\u001b[0m\n\u001b[1;32m----> 7\u001b[1;33m \u001b[0mdatetime_object\u001b[0m \u001b[1;33m=\u001b[0m \u001b[0mdatetime\u001b[0m\u001b[1;33m.\u001b[0m\u001b[0mstrptime\u001b[0m\u001b[1;33m(\u001b[0m\u001b[0mdatetime_str\u001b[0m\u001b[1;33m)\u001b[0m\u001b[1;31m#, '%y/%m/%d %H:%M:%S')\u001b[0m\u001b[1;33m\u001b[0m\u001b[1;33m\u001b[0m\u001b[0m\n\u001b[0m\u001b[0;32m      8\u001b[0m \u001b[1;33m\u001b[0m\u001b[0m\n\u001b[0;32m      9\u001b[0m \u001b[0mprint\u001b[0m\u001b[1;33m(\u001b[0m\u001b[0mtype\u001b[0m\u001b[1;33m(\u001b[0m\u001b[0mdatetime_object\u001b[0m\u001b[1;33m)\u001b[0m\u001b[1;33m)\u001b[0m\u001b[1;33m\u001b[0m\u001b[1;33m\u001b[0m\u001b[0m\n",
      "\u001b[1;31mTypeError\u001b[0m: strptime() takes exactly 2 arguments (1 given)"
     ]
    }
   ],
   "source": [
    "#Parse the date from today_string.\n",
    "\n",
    "from datetime import datetime\n",
    "\n",
    "datetime_str = a\n",
    "\n",
    "datetime_object = datetime.strptime(datetime_str, '%y/%m/%d %H:%M:%S')\n",
    "\n",
    "print(type(datetime_object))\n",
    "print(datetime_object) \n",
    "\n",
    "\n",
    "# dd/mm/YY\n",
    "d1 = datetime_object.strftime(\"%d/%m/%Y\")\n",
    "print(\"d1 =\", d1)\n",
    "\n",
    "# Textual month, day and year\n",
    "d2 = datetime_object.strftime(\"%B %d, %Y\")\n",
    "print(\"d2 =\", d2)\n",
    "\n",
    "# mm/dd/y\n",
    "d3 = datetime_object.strftime(\"%m/%d/%y\")\n",
    "print(\"d3 =\", d3)\n",
    "\n",
    "# Month abbreviation, day and year\n",
    "d4 = datetime_object.strftime(\"%b-%d-%Y\")\n",
    "print(\"d4 =\", d4)\n"
   ]
  },
  {
   "cell_type": "code",
   "execution_count": 20,
   "id": "aecae2ae",
   "metadata": {},
   "outputs": [
    {
     "name": "stdout",
     "output_type": "stream",
     "text": [
      "['.ipynb_checkpoints', 'Python Basic Assignment-21.ipynb', 'today.txt']\n"
     ]
    }
   ],
   "source": [
    "#List the files in your current directory\n",
    "import os\n",
    "arr = os.listdir('.')\n",
    "print(arr)"
   ]
  },
  {
   "cell_type": "code",
   "execution_count": 21,
   "id": "2e6b37dc",
   "metadata": {},
   "outputs": [
    {
     "name": "stdout",
     "output_type": "stream",
     "text": [
      "['.ipynb_checkpoints', 'Python Basic Assignment-21.ipynb', 'today.txt']\n"
     ]
    }
   ],
   "source": [
    "#Create a list of all of the files in your parent directory (minimum five files should be available).\n",
    "print(list(arr))"
   ]
  },
  {
   "cell_type": "code",
   "execution_count": 22,
   "id": "94a101ea",
   "metadata": {},
   "outputs": [
    {
     "name": "stdout",
     "output_type": "stream",
     "text": [
      "main line\n",
      "module name: __main__\n",
      "parent process: 16132\n",
      "process id: 9740\n"
     ]
    }
   ],
   "source": [
    "#Use multiprocessing to create three separate processes. Make each one wait a random number of seconds between one and five, print the current time, and then exit.\n",
    "from multiprocessing import Process\n",
    "import os\n",
    "\n",
    "def info(title):\n",
    "    print(title)\n",
    "    print('module name:', __name__)\n",
    "    print('parent process:', os.getppid())\n",
    "    print('process id:', os.getpid())\n",
    "\n",
    "def f(name):\n",
    "    info('function f')\n",
    "    print('hello', name)\n",
    "\n",
    "if __name__ == '__main__':\n",
    "    info('main line')\n",
    "    p = Process(target=f, args=('bob',))\n",
    "    p.start()\n",
    "    p.join()"
   ]
  },
  {
   "cell_type": "code",
   "execution_count": null,
   "id": "f013e4d0",
   "metadata": {},
   "outputs": [],
   "source": [
    "#Create a date object of your day of birth.\n",
    "from datetime import datetime\n",
    "\n",
    "birthday = input(\"Enter your date of birth: \")\n",
    "\n",
    "bday = datetime.strptime(birthday, '%d/%m/%Y')\n",
    "\n",
    "print(f'Day: {bday.day}')\n",
    "print(f'Month: {bday.month}')\n",
    "print(f'Year: {bday.year}')\n"
   ]
  },
  {
   "cell_type": "code",
   "execution_count": null,
   "id": "01c71693",
   "metadata": {},
   "outputs": [],
   "source": [
    "#What day of the week was your day of birth?\n",
    "import datetime\n",
    "import calendar\n",
    " \n",
    "def findDay(date):\n",
    "    born = datetime.datetime.strptime(date, '%d %m %Y').weekday()\n",
    "    return (calendar.day_name[born])\n",
    " \n",
    "# Driver program\n",
    "date = '03 02 2019'\n",
    "print(findDay(date))"
   ]
  },
  {
   "cell_type": "code",
   "execution_count": null,
   "id": "54dd36e3",
   "metadata": {},
   "outputs": [],
   "source": [
    "#When will you be (or when were you) 10,000 days old?\n",
    "from datetime import date\n",
    "  \n",
    "def calculateAge(birthDate):\n",
    "    today = date.today()\n",
    "    age = today.year - birthDate.year - \n",
    "         ((today.month, today.day) <\n",
    "         (birthDate.month, birthDate.day))\n",
    "  \n",
    "    return age\n",
    "      \n",
    "# Driver code \n",
    "print(calculateAge(date(1997, 2, 3)), \"years\")"
   ]
  }
 ],
 "metadata": {
  "kernelspec": {
   "display_name": "Python 3",
   "language": "python",
   "name": "python3"
  },
  "language_info": {
   "codemirror_mode": {
    "name": "ipython",
    "version": 3
   },
   "file_extension": ".py",
   "mimetype": "text/x-python",
   "name": "python",
   "nbconvert_exporter": "python",
   "pygments_lexer": "ipython3",
   "version": "3.8.10"
  }
 },
 "nbformat": 4,
 "nbformat_minor": 5
}
