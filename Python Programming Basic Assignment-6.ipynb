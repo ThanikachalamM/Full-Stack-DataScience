{
 "cells": [
  {
   "cell_type": "code",
   "execution_count": 1,
   "id": "minimal-joseph",
   "metadata": {},
   "outputs": [
    {
     "name": "stdout",
     "output_type": "stream",
     "text": [
      "How many terms? 8\n",
      "Fibonacci sequence:\n",
      "0\n",
      "1\n",
      "1\n",
      "2\n",
      "3\n",
      "5\n",
      "8\n",
      "13\n"
     ]
    }
   ],
   "source": [
    "#1.Write a Python Program to Display Fibonacci Sequence Using Recursion?\n",
    "def recur_fibo(n):  \n",
    "   if n <= 1:  \n",
    "       return n  \n",
    "   else:  \n",
    "       return(recur_fibo(n-1) + recur_fibo(n-2))  \n",
    "# take input from the user  \n",
    "nterms = int(input(\"How many terms? \"))  \n",
    "# check if the number of terms is valid  \n",
    "if nterms <= 0:  \n",
    "   print(\"Plese enter a positive integer\")  \n",
    "else:  \n",
    "   print(\"Fibonacci sequence:\")  \n",
    "   for i in range(nterms):  \n",
    "       print(recur_fibo(i))  "
   ]
  },
  {
   "cell_type": "code",
   "execution_count": 2,
   "id": "electric-python",
   "metadata": {},
   "outputs": [
    {
     "name": "stdout",
     "output_type": "stream",
     "text": [
      "Enter a number: 5\n",
      "The factorial of 5 is 120\n"
     ]
    }
   ],
   "source": [
    "#2.Write a Python Program to Find Factorial of Number Using Recursion?\n",
    "def recur_factorial(n):  \n",
    "   if n == 1:  \n",
    "       return n  \n",
    "   else:  \n",
    "       return n*recur_factorial(n-1)  \n",
    "# take input from the user  \n",
    "num = int(input(\"Enter a number: \"))  \n",
    "# check is the number is negative  \n",
    "if num < 0:  \n",
    "   print(\"Sorry, factorial does not exist for negative numbers\")  \n",
    "elif num == 0:  \n",
    "   print(\"The factorial of 0 is 1\")  \n",
    "else:  \n",
    "   print(\"The factorial of\",num,\"is\",recur_factorial(num))  "
   ]
  },
  {
   "cell_type": "code",
   "execution_count": 3,
   "id": "exceptional-possibility",
   "metadata": {},
   "outputs": [
    {
     "name": "stdout",
     "output_type": "stream",
     "text": [
      "Input your height in Feet: 5.8\n",
      "Input your weight in Kilogram: 80\n",
      "Your body mass index is:  2.38\n"
     ]
    }
   ],
   "source": [
    "#3.Write a Python Program to calculate your Body Mass Index?\n",
    "height = float(input(\"Input your height in Feet: \"))\n",
    "weight = float(input(\"Input your weight in Kilogram: \"))\n",
    "print(\"Your body mass index is: \", round(weight / (height * height), 2))"
   ]
  },
  {
   "cell_type": "code",
   "execution_count": 6,
   "id": "broad-ceiling",
   "metadata": {},
   "outputs": [
    {
     "name": "stdout",
     "output_type": "stream",
     "text": [
      "Enter the number :7\n",
      "Natural logarithm of 7 is : 1.9459101490553132\n"
     ]
    }
   ],
   "source": [
    "#4.Write a Python Program to calculate the natural logarithm of any number?\n",
    "import math \n",
    "n=int(input(\"Enter the number :\"))\n",
    "# Printing the log base e of 14 \n",
    "print (\"Natural logarithm of \" + str(n) +\" is : \", end=\"\") \n",
    "print (math.log(n))"
   ]
  },
  {
   "cell_type": "code",
   "execution_count": 9,
   "id": "further-offense",
   "metadata": {},
   "outputs": [
    {
     "name": "stdout",
     "output_type": "stream",
     "text": [
      "Enter the number :55\n",
      "Enter the base number :8\n",
      "Logarithm base 8 of55 is : 1.9271199045082201\n"
     ]
    }
   ],
   "source": [
    "# other method -- natural logarithm based on base\n",
    "n=int(input(\"Enter the number :\"))\n",
    "b=int(input(\"Enter the base number :\"))\n",
    "print (\"Logarithm base \"+ str(b)+ \" of \" + str(n) +\" is : \", end=\"\") \n",
    "print (math.log(n,b)) "
   ]
  },
  {
   "cell_type": "code",
   "execution_count": 10,
   "id": "military-nursing",
   "metadata": {},
   "outputs": [
    {
     "name": "stdout",
     "output_type": "stream",
     "text": [
      "Enter the number :6\n",
      "441\n"
     ]
    }
   ],
   "source": [
    "#5.Write a Python Program for cube sum of first n natural numbers?\n",
    "# Returns the sum of series \n",
    "def sumOfSeries(n): \n",
    "    sum = 0\n",
    "    for i in range(1, n+1): \n",
    "        sum +=i*i*i \n",
    "    return sum\n",
    "\n",
    "\n",
    "# Driver Function \n",
    "n=int(input(\"Enter the number :\"))\n",
    "print(sumOfSeries(n)) \n"
   ]
  },
  {
   "cell_type": "code",
   "execution_count": null,
   "id": "suburban-original",
   "metadata": {},
   "outputs": [],
   "source": []
  }
 ],
 "metadata": {
  "kernelspec": {
   "display_name": "Python 3",
   "language": "python",
   "name": "python3"
  },
  "language_info": {
   "codemirror_mode": {
    "name": "ipython",
    "version": 3
   },
   "file_extension": ".py",
   "mimetype": "text/x-python",
   "name": "python",
   "nbconvert_exporter": "python",
   "pygments_lexer": "ipython3",
   "version": "3.8.8"
  }
 },
 "nbformat": 4,
 "nbformat_minor": 5
}
