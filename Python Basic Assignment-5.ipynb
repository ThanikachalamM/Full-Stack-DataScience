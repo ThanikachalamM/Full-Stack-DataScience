{
 "cells": [
  {
   "cell_type": "code",
   "execution_count": null,
   "id": "ad1cac86",
   "metadata": {},
   "outputs": [],
   "source": [
    "1.What does the code for an empty dictionary look like?\n",
    "Two curly brackets: {}\n",
    "2.What does a dictionary value with a key 'foo' and a value 42 look like?\n",
    "{'foo': 42}\n",
    "3.What is the main difference between a dictionary and a list?\n",
    "The items stored in a dictionary are unordered, while the items in a list are ordered.\n",
    "4.What happens if you try to access spam['foo'] if spam is {'bar': 100}?\n",
    "You get a KeyError error.\n",
    "5.If a dictionary is stored in spam, what is the difference between the expressions 'cat' in spam and 'cat' in spam.keys()?\n",
    "There is no difference. The in operator checks whether a value exists as a key in the dictionary.\n",
    "6.If a dictionary is stored in spam, what is the difference between the expressions 'cat' in spam and 'cat' in spam.values()?\n",
    "'cat' in spam checks whether there is a 'cat' key in the dictionary, while 'cat' in spam.values() checks whether there is a value 'cat' for one of the keys in spam.\n",
    "7.What is a shortcut for the following code?\n",
    "\n",
    "if 'color' not in spam:\n",
    "spam['color'] = 'black'\n",
    "\n",
    "spam.setdefault('color', 'black')\n",
    "\n",
    "8.What module and function can be used to \"pretty print\" dictionary values?\n",
    "pprint.pprint()"
   ]
  }
 ],
 "metadata": {
  "kernelspec": {
   "display_name": "Python 3",
   "language": "python",
   "name": "python3"
  },
  "language_info": {
   "codemirror_mode": {
    "name": "ipython",
    "version": 3
   },
   "file_extension": ".py",
   "mimetype": "text/x-python",
   "name": "python",
   "nbconvert_exporter": "python",
   "pygments_lexer": "ipython3",
   "version": "3.8.10"
  }
 },
 "nbformat": 4,
 "nbformat_minor": 5
}
