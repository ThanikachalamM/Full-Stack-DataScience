{
 "cells": [
  {
   "cell_type": "code",
   "execution_count": null,
   "id": "ea5d1176",
   "metadata": {},
   "outputs": [],
   "source": [
    "1. Is the Python Standard Library included with PyInputPlus?\n",
    "No. we need to install separately \n",
    "PyInputPlus is a Python module used for taking inputs with additional validation features. PyInputPlus will keep asking the user for text until they enter valid input.\n",
    "\n",
    "pip install PyInputPlus\n",
    "\n",
    "2. Why is PyInputPlus commonly imported with import pyinputplus as pypi?\n",
    "PyInputPlus is not inclued in python standard library\n",
    "\n",
    "3.How do you distinguish between inputInt() and inputFloat()?\n",
    "inputInt() : Accepts an integer value. This also takes additional parameters ‘min’, ‘max’, ‘greaterThan’ and ‘lessThan’  for bounds. Returns an int.\n",
    "inputFloat() : Accepts a floating-point numeric value. Also takes additional ‘min’, ‘max’, ‘greaterThan’ and ‘lessThan’  parameters. Returns a float.\n",
    "\n",
    "4.Using PyInputPlus, how do you ensure that the user enters a whole number between 0 and 99?\n",
    "By using pyip.inputint(min=0, max=99)\n",
    "\n",
    "5.What is transferred to the keyword arguments allowRegexes and blockRegexes?\n",
    "The allowRegexes and blockRegexes keyword arguments take a list of regular expression strings to determine what the PyInputPlus function will accept or reject as valid input\n",
    "\n",
    "6.If a blank input is entered three times, what does inputStr(limit=3) do?\n",
    "If the user answers incorrectly more than 3 times, it raises a RetryLimitException exception\n",
    "\n",
    "7.If blank input is entered three times, what does inputStr(limit=3, default='hello') do?\n",
    "    If the user answers incorrectly more than 3 times,, default value hello                                                        "
   ]
  }
 ],
 "metadata": {
  "kernelspec": {
   "display_name": "Python 3",
   "language": "python",
   "name": "python3"
  },
  "language_info": {
   "codemirror_mode": {
    "name": "ipython",
    "version": 3
   },
   "file_extension": ".py",
   "mimetype": "text/x-python",
   "name": "python",
   "nbconvert_exporter": "python",
   "pygments_lexer": "ipython3",
   "version": "3.8.10"
  }
 },
 "nbformat": 4,
 "nbformat_minor": 5
}
