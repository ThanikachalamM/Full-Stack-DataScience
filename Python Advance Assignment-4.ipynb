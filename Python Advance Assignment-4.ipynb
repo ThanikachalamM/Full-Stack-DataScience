{
 "cells": [
  {
   "cell_type": "code",
   "execution_count": null,
   "id": "526388cf",
   "metadata": {},
   "outputs": [],
   "source": [
    "#Which two operator overloading methods can you use in your classes to support iteration?\n",
    "Operators are used in Python to perform specific operations on the given operands. The operation that any particular operator will perform on any predefined data type is already defined in Python.\n",
    "\n",
    "Each operator can be used in a different way for different types of operands. For example, + operator is used for adding two integers to give an integer as a result but when we use it with float operands, then the result is a float value and when + is used with string operands then it concatenates the two operands provided.\n",
    "\n",
    "This different behaviour of a single operator for different types of operands is called Operator Overloading. \n",
    "#In what contexts do the two operator overloading methods manage printing?\n",
    "#In a class, how do you intercept slice operations?\n",
    "The __getitem__ method is used for accessing list items, array elements, dictionary entries etc. slice is a constructor in Python that creates slice object to represent set of indices that the range(start, stop, step) specifies. __getitem__ method can be implement in a class, and the behavior of slicing can be defined inside it.\n",
    "\n",
    "Syntax:\n",
    "\n",
    "__getitem__(slice(start, stop, step))\n",
    "Parameter:\n",
    "\n",
    "slice() : constructor to create slice object.\n",
    "start: An integer number specifying start index.It is optional and default is 0.\n",
    "stop: An integer number specifying end index.\n",
    "step: An integer number specifying the step of slicing. It is optional and\n",
    "default is 1.\n",
    "#In a class, how do you capture in-place addition?\n",
    "Normal operators do the simple assigning job. On other hand, Inplace operators behave similar to normal operators except that they act in a different manner in case of mutable and Immutable targets.\n",
    "\n",
    "The _add_ method, does simple addition, takes two arguments, returns the sum and stores it in other variable without modifying any of the argument.\n",
    "On the other hand, _iadd_ method also takes two arguments, but it makes in-place change in 1st argument passed by storing the sum in it. As object mutation is needed in this process, immutable targets such as numbers, strings and tuples, shouldn’t have _iadd_ method.\n",
    "Normal operator’s “add()” method, implements “a+b” and stores the result in the mentioned variable.\n",
    "Inplace operator’s “iadd()” method, implements “a+=b” if it exists (i.e in case of immutable targets, it doesn’t exist) and changes the value of passed argument. But if not, “a+b” is implemented.\n",
    "In both the cases assignment is required to do to store the value.\n",
    "#When is it appropriate to use operator overloading?\n",
    "The purpose of operator overloading is to provide a special meaning of an operator for a user-defined data type. With the help of operator overloading, you can redefine the majority of the python operators. You can also use operator overloading to perform different operations using one operator."
   ]
  }
 ],
 "metadata": {
  "kernelspec": {
   "display_name": "Python 3",
   "language": "python",
   "name": "python3"
  },
  "language_info": {
   "codemirror_mode": {
    "name": "ipython",
    "version": 3
   },
   "file_extension": ".py",
   "mimetype": "text/x-python",
   "name": "python",
   "nbconvert_exporter": "python",
   "pygments_lexer": "ipython3",
   "version": "3.8.10"
  }
 },
 "nbformat": 4,
 "nbformat_minor": 5
}
