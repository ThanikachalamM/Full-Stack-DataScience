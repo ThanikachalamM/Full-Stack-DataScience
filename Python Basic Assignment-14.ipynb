{
 "cells": [
  {
   "cell_type": "code",
   "execution_count": null,
   "id": "cb510874",
   "metadata": {},
   "outputs": [],
   "source": [
    "#What does RGBA stand for?\n",
    "Red-Green-Blue-Alpha\n",
    "\n",
    "#From the Pillow module, how do you get the RGBA value of any images?\n",
    "import the Image module from the Pillow library from PIL import Image.\n",
    "Open any image and get the RAGBAG values. img = Image.open('image.png') rgba = img.convert(“RGBA”) ...\n",
    "Change the color. Data will be an Imaging Core object containing thousands of tuples of RGBA values. ...\n",
    "Store the changed image.\n",
    "\n",
    "#What is a box tuple, and how does it work?\n",
    "The box. tuple submodule provides read-only access for the tuple userdata type. It allows, for a single tuple: selective retrieval of the field contents, retrieval of information about size, iteration over all the fields, and conversion to a Lua table\n",
    "    \n",
    "#Use your image and load in notebook then, How can you find out the width and height of an Image object?\n",
    "#Import library\n",
    "from IPython.display import Image\n",
    "# Load image from local storage\n",
    "Image(filename = \"img1.png\", width = 600, height = 300)\n",
    "\n",
    "#What method would you call to get Image object for a 100×100 image, excluding the lower-left quarter of it?\n",
    "def crop_center(pil_img, crop_width, crop_height):\n",
    "    img_width, img_height = pil_img.size\n",
    "    return pil_img.crop(((img_width - crop_width) // 2,\n",
    "                         (img_height - crop_height) // 2,\n",
    "                         (img_width + crop_width) // 2,\n",
    "                         (img_height + crop_height) // 2))\n",
    "im_new = crop_center(im, 300, 150)\n",
    "im_new.save('data/dst/astronaut_pillow_crop_center.jpg', quality=95)\n",
    "\n",
    "#After making changes to an Image object, how could you save it as an image file?\n",
    "image.save()\n",
    "\n",
    "#What module contains Pillow’s shape-drawing code?\n",
    "Pillow provides a drawing module called ImageDraw that you can use to create simple 2D graphics on your Image objects. According to Pillow's documentation, “you can use this module to create new images, annotate or retouch existing images, and to generate graphics on the fly for web use.”\n",
    "\n",
    "#Image objects do not have drawing methods. What kind of object does? How do you get this kind of object?\n",
    "The ImageDraw module provides simple 2D graphics for Image objects. You can use this module to create new images, annotate or retouch existing images, and to generate graphics on the fly for web use.\n",
    "\n"
   ]
  }
 ],
 "metadata": {
  "kernelspec": {
   "display_name": "Python 3",
   "language": "python",
   "name": "python3"
  },
  "language_info": {
   "codemirror_mode": {
    "name": "ipython",
    "version": 3
   },
   "file_extension": ".py",
   "mimetype": "text/x-python",
   "name": "python",
   "nbconvert_exporter": "python",
   "pygments_lexer": "ipython3",
   "version": "3.8.10"
  }
 },
 "nbformat": 4,
 "nbformat_minor": 5
}
