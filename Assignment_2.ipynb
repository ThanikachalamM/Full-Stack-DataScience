{
  "nbformat": 4,
  "nbformat_minor": 0,
  "metadata": {
    "colab": {
      "name": "Untitled1.ipynb",
      "provenance": [],
      "collapsed_sections": []
    },
    "kernelspec": {
      "name": "python3",
      "display_name": "Python 3"
    }
  },
  "cells": [
    {
      "cell_type": "code",
      "metadata": {
        "id": "m1W3GrCdHef2"
      },
      "source": [
        ""
      ],
      "execution_count": null,
      "outputs": []
    },
    {
      "cell_type": "markdown",
      "metadata": {
        "id": "JHBOXrVuHgjB"
      },
      "source": [
        "1.\tWhat are the Boolean data type's two values? How do you go about writing them?\r\n",
        "0-False\r\n",
        "1-True\r\n",
        "First letter (F,T) should be capital letter\r\n"
      ]
    },
    {
      "cell_type": "markdown",
      "metadata": {
        "id": "zX-4Wu1NHnTf"
      },
      "source": [
        "2. What are the three different types of Boolean operators?\r\n",
        "•\tThe AND operator (&& or “and”)\r\n",
        "•\tThe OR operator (|| or “or”)\r\n",
        "•\tThe NOT operator (not)\r\n"
      ]
    },
    {
      "cell_type": "markdown",
      "metadata": {
        "id": "rGZXub4ZHseS"
      },
      "source": [
        "3.Make a list of each Boolean operator's truth tables (i.e. every possible combination of Boolean values for the operator and what it evaluate ).\r\n",
        "Input – A , B\r\n",
        "Output - Q\r\n",
        "For a 2-input AND gate, the output Q is true if BOTH input A “AND” input B are both true\r\n",
        "\r\n",
        "For a 2-input OR gate, the output Q is true if EITHER input A “OR” input B is true\r\n",
        "\r\n",
        "For a single input NOT gate, the output Q is ONLY true when the input is “NOT” true, the output is the inverse or complement of the input \r\n"
      ]
    },
    {
      "cell_type": "markdown",
      "metadata": {
        "id": "RAn6N9_TH0Sf"
      },
      "source": [
        "4. What are the values of the following expressions?\r\n",
        "\r\n",
        "(5 > 4) and (3 == 5)------false\r\n",
        "not (5 > 4)-----False\r\n",
        "(5 > 4) or (3 == 5)-----True\r\n",
        "not ((5 > 4) or (3 == 5))------False\r\n",
        "(True and True) and (True == False)-----False\r\n",
        "(not False) or (not True)---True\r\n"
      ]
    },
    {
      "cell_type": "code",
      "metadata": {
        "colab": {
          "base_uri": "https://localhost:8080/"
        },
        "id": "lOts3QENH7yk",
        "outputId": "7011d6b3-7df4-4881-f695-5550cbec5993"
      },
      "source": [
        "print((5 > 4) and (3 == 5))\r\n",
        "print(not (5 > 4))\r\n",
        "print((5 > 4) or (3 == 5))\r\n",
        "print(not ((5 > 4) or (3 == 5)))\r\n",
        "print((True and True) and (True == False))\r\n",
        "print((not False) or (not True))\r\n"
      ],
      "execution_count": 1,
      "outputs": [
        {
          "output_type": "stream",
          "text": [
            "False\n",
            "False\n",
            "True\n",
            "False\n",
            "False\n",
            "True\n"
          ],
          "name": "stdout"
        }
      ]
    },
    {
      "cell_type": "markdown",
      "metadata": {
        "id": "4W6pbuE8ITxc"
      },
      "source": [
        "5. What are the six different types of reference operators?\r\n",
        "= \r\n",
        "+=\r\n",
        "-=\r\n",
        "*=\r\n",
        "/=\r\n",
        "%=\r\n",
        "//=\r\n",
        "**=\r\n",
        "&=\r\n",
        "|=\r\n",
        "^=\r\n",
        ">>=\r\n",
        "<<=\r\n",
        "\r\n"
      ]
    },
    {
      "cell_type": "markdown",
      "metadata": {
        "id": "JQ9uFI7BIbmR"
      },
      "source": [
        "6. How do you tell the difference between the equal to and assignment operators?\r\n",
        "==  - equal operator \r\n",
        "=  - Assignment operator\r\n"
      ]
    },
    {
      "cell_type": "markdown",
      "metadata": {
        "id": "ALB76BsJIgZ1"
      },
      "source": [
        "7. Describe a condition and when you would use one.\r\n",
        "If -  condition will use for compare\r\n"
      ]
    },
    {
      "cell_type": "markdown",
      "metadata": {
        "id": "N-jk-aAPIk08"
      },
      "source": [
        "8. Recognize the following three blocks in this code:\r\n",
        "\r\n",
        "spam = 0\r\n",
        "if spam == 10:\r\n",
        "    print('eggs')\r\n",
        "    if spam > 5:\r\n",
        "        print('bacon')\r\n",
        "    else:\r\n",
        "        print('ham')\r\n",
        "    print('spam')\r\n",
        "print('spam')\r\n",
        "\r\n",
        "the first IF condition is failed …  so remaining IF ‘s not working… last print statement is printing “spam”\r\n"
      ]
    },
    {
      "cell_type": "markdown",
      "metadata": {
        "id": "Pzmg8jW8Iq5w"
      },
      "source": [
        "9. Create a programme that prints. If 1 is stored in spam, prints Hello; if 2 is stored in spam, prints Howdy; and if 3 is stored in spam, prints Salutations! if there's something else in spam."
      ]
    },
    {
      "cell_type": "code",
      "metadata": {
        "colab": {
          "base_uri": "https://localhost:8080/"
        },
        "id": "8duRNYN2IxKa",
        "outputId": "c822b2ba-4a22-4285-8372-30c95836f022"
      },
      "source": [
        "spam = int(input(\"Enter the spam value: \"))\r\n",
        "if spam == 1:\r\n",
        "     print(\"Hello\")\r\n",
        "elif spam == 2:\r\n",
        "     print(\"Howdy\")\r\n",
        "elif spam ==3:\r\n",
        "    print(\"Salutations\")\r\n",
        "else:\r\n",
        "    print(\"spam\")\r\n"
      ],
      "execution_count": 3,
      "outputs": [
        {
          "output_type": "stream",
          "text": [
            "Enter the spam value: 2\n",
            "Howdy\n"
          ],
          "name": "stdout"
        }
      ]
    },
    {
      "cell_type": "markdown",
      "metadata": {
        "id": "AUB_S5yZJFga"
      },
      "source": [
        "10.If your programme is stuck in an endless loop, what keys can you press?\r\n",
        "ctrl + c"
      ]
    },
    {
      "cell_type": "markdown",
      "metadata": {
        "id": "3aZzFlDUJrUd"
      },
      "source": [
        "11. How can you tell the difference between break and continue?\r\n",
        "Break statement resumes the control of the program to the end of loop and made executional flow outside that loop. Continue statement resumes the control of the program to the next iteration of that loop enclosing 'continue' and made executional flow inside the loop again"
      ]
    },
    {
      "cell_type": "markdown",
      "metadata": {
        "id": "ZcunKZn1KAkx"
      },
      "source": [
        "12. In a for loop, what is the difference between range(10), range(0, 10), and range(0, 10, 1)? No difference"
      ]
    },
    {
      "cell_type": "code",
      "metadata": {
        "colab": {
          "base_uri": "https://localhost:8080/"
        },
        "id": "LVWTBszpLDla",
        "outputId": "262ebbda-3e23-4a1b-a909-309b9da25081"
      },
      "source": [
        "for i in range(10):\r\n",
        "    print(i)\r\n",
        "for i in range(0,10):\r\n",
        "    print(i)\r\n",
        "for i in range(0,10,1):\r\n",
        "    print(i)"
      ],
      "execution_count": 4,
      "outputs": [
        {
          "output_type": "stream",
          "text": [
            "0\n",
            "1\n",
            "2\n",
            "3\n",
            "4\n",
            "5\n",
            "6\n",
            "7\n",
            "8\n",
            "9\n",
            "0\n",
            "1\n",
            "2\n",
            "3\n",
            "4\n",
            "5\n",
            "6\n",
            "7\n",
            "8\n",
            "9\n",
            "0\n",
            "1\n",
            "2\n",
            "3\n",
            "4\n",
            "5\n",
            "6\n",
            "7\n",
            "8\n",
            "9\n"
          ],
          "name": "stdout"
        }
      ]
    },
    {
      "cell_type": "markdown",
      "metadata": {
        "id": "L9YrdZPvLOdC"
      },
      "source": [
        "13. Using a for loop, write a short programme that prints the numbers 1 to 10 Then, using a while loop, create an identical programme that prints the numbers 1 to 10."
      ]
    },
    {
      "cell_type": "code",
      "metadata": {
        "colab": {
          "base_uri": "https://localhost:8080/"
        },
        "id": "D_M-4kGhLS0v",
        "outputId": "04b5981d-6b00-45d5-f2ba-4dfaba0a41e9"
      },
      "source": [
        "for i in range(1,11):\r\n",
        "    print(i)\r\n",
        "\r\n",
        "i = 1\r\n",
        "while i < 11:\r\n",
        "  print(i)\r\n",
        "  i += 1\r\n"
      ],
      "execution_count": 5,
      "outputs": [
        {
          "output_type": "stream",
          "text": [
            "1\n",
            "2\n",
            "3\n",
            "4\n",
            "5\n",
            "6\n",
            "7\n",
            "8\n",
            "9\n",
            "10\n",
            "1\n",
            "2\n",
            "3\n",
            "4\n",
            "5\n",
            "6\n",
            "7\n",
            "8\n",
            "9\n",
            "10\n"
          ],
          "name": "stdout"
        }
      ]
    },
    {
      "cell_type": "markdown",
      "metadata": {
        "id": "vN4taXK2MhOl"
      },
      "source": [
        "14. If you had a bacon() function within a spam module, what would you call it after importing spam?\r\n",
        "Module spam in a.py:\r\n",
        "\r\n",
        "def bacon():\r\n",
        "    print('Hi')\r\n",
        "Module b in b.py uses module spam:\r\n",
        "\r\n",
        "import a\r\n",
        "\r\n",
        "a.bacon()  # prints \"Hi\""
      ]
    }
  ]
}