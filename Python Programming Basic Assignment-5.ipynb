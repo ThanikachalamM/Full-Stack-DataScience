{
 "cells": [
  {
   "cell_type": "code",
   "execution_count": 1,
   "id": "smoking-gauge",
   "metadata": {},
   "outputs": [
    {
     "name": "stdout",
     "output_type": "stream",
     "text": [
      "Enter the 1st number:13\n",
      "Enter the 2st number:24\n",
      "The L.C.M. is 312\n"
     ]
    }
   ],
   "source": [
    "#1.Write a Python Program to Find LCM?\n",
    "\n",
    "def compute_lcm(x, y):\n",
    "\n",
    "   # choose the greater number\n",
    "   if x > y:\n",
    "       greater = x\n",
    "   else:\n",
    "       greater = y\n",
    "\n",
    "   while(True):\n",
    "       if((greater % x == 0) and (greater % y == 0)):\n",
    "           lcm = greater\n",
    "           break\n",
    "       greater += 1\n",
    "\n",
    "   return lcm\n",
    "\n",
    "num1 = int(input(\"Enter the 1st number:\"))\n",
    "num2 = int(input(\"Enter the 2st number:\"))\n",
    "\n",
    "print(\"The L.C.M. is\", compute_lcm(num1, num2))"
   ]
  },
  {
   "cell_type": "code",
   "execution_count": 2,
   "id": "neither-season",
   "metadata": {},
   "outputs": [
    {
     "name": "stdout",
     "output_type": "stream",
     "text": [
      "Enter first number: 8\n",
      "Enter second number: 12\n",
      "The H.C.F. of 8 and 12 is 4\n"
     ]
    }
   ],
   "source": [
    "#2.Write a Python Program to Find HCF?\n",
    "def hcf(x, y):  \n",
    "   if x > y:  \n",
    "       smaller = y  \n",
    "   else:  \n",
    "       smaller = x  \n",
    "   for i in range(1,smaller + 1):  \n",
    "       if((x % i == 0) and (y % i == 0)):  \n",
    "           hcf = i  \n",
    "   return hcf  \n",
    "  \n",
    "num1 = int(input(\"Enter first number: \"))  \n",
    "num2 = int(input(\"Enter second number: \"))  \n",
    "print(\"The H.C.F. of\", num1,\"and\", num2,\"is\", hcf(num1, num2))  "
   ]
  },
  {
   "cell_type": "code",
   "execution_count": 4,
   "id": "developed-tucson",
   "metadata": {},
   "outputs": [
    {
     "name": "stdout",
     "output_type": "stream",
     "text": [
      "Enter a decimal number: 54\n",
      "0b110110 in binary.\n",
      "0o66 in octal.\n",
      "0x36 in hexadecimal.\n"
     ]
    }
   ],
   "source": [
    "#3.Write a Python Program to Convert Decimal to Binary, Octal and Hexadecimal?\n",
    "dec = int(input(\"Enter a decimal number: \"))  \n",
    "  \n",
    "print(bin(dec),\"in binary.\")  \n",
    "print(oct(dec),\"in octal.\")  \n",
    "print(hex(dec),\"in hexadecimal.\"  )"
   ]
  },
  {
   "cell_type": "code",
   "execution_count": 5,
   "id": "driven-wallace",
   "metadata": {},
   "outputs": [
    {
     "name": "stdout",
     "output_type": "stream",
     "text": [
      "Enter a character: t\n",
      "The ASCII value of 't' is 116\n"
     ]
    }
   ],
   "source": [
    "#4.Write a Python Program To Find ASCII value of a character?\n",
    "c = input(\"Enter a character: \")  \n",
    "  \n",
    "print(\"The ASCII value of '\" + c + \"' is\",ord(c)) "
   ]
  },
  {
   "cell_type": "code",
   "execution_count": 8,
   "id": "occupied-chemistry",
   "metadata": {},
   "outputs": [
    {
     "name": "stdout",
     "output_type": "stream",
     "text": [
      "Please select operation -\n",
      "1. Add\n",
      "2. Subtract\n",
      "3. Multiply\n",
      "4. Divide\n",
      "\n",
      "Select operations form 1, 2, 3, 4 :2\n",
      "Enter first number: 4\n",
      "Enter second number: 5\n",
      "4 - 5 = -1\n"
     ]
    }
   ],
   "source": [
    "#5. Write a Python Program to Make a Simple Calculator with 4 basic mathematical operations?\n",
    "# Function to add two numbers \n",
    "def add(num1, num2): \n",
    "    return num1 + num2 \n",
    "\n",
    "# Function to subtract two numbers \n",
    "def subtract(num1, num2): \n",
    "    return num1 - num2 \n",
    "\n",
    "# Function to multiply two numbers \n",
    "def multiply(num1, num2): \n",
    "    return num1 * num2 \n",
    "\n",
    "# Function to divide two numbers \n",
    "def divide(num1, num2): \n",
    "    return num1 / num2 \n",
    "\n",
    "print(\"Please select operation -\\n\" \\\n",
    "        \"1. Add\\n\" \\\n",
    "        \"2. Subtract\\n\" \\\n",
    "        \"3. Multiply\\n\" \\\n",
    "        \"4. Divide\\n\") \n",
    "\n",
    "\n",
    "# Take input from the user \n",
    "select = int(input(\"Select operations form 1, 2, 3, 4 :\")) \n",
    "\n",
    "number_1 = int(input(\"Enter first number: \")) \n",
    "number_2 = int(input(\"Enter second number: \")) \n",
    "\n",
    "if select == 1: \n",
    "    print(number_1, \"+\", number_2, \"=\", add(number_1, number_2)) \n",
    "\n",
    "elif select == 2: \n",
    "    print(number_1, \"-\", number_2, \"=\", subtract(number_1, number_2)) \n",
    "\n",
    "elif select == 3: \n",
    "    print(number_1, \"*\", number_2, \"=\", multiply(number_1, number_2)) \n",
    "\n",
    "elif select == 4: \n",
    "    print(number_1, \"/\", number_2, \"=\", divide(number_1, number_2)) \n",
    "else: \n",
    "    print(\"Invalid input\") \n"
   ]
  },
  {
   "cell_type": "code",
   "execution_count": null,
   "id": "worth-irrigation",
   "metadata": {},
   "outputs": [],
   "source": []
  }
 ],
 "metadata": {
  "kernelspec": {
   "display_name": "Python 3",
   "language": "python",
   "name": "python3"
  },
  "language_info": {
   "codemirror_mode": {
    "name": "ipython",
    "version": 3
   },
   "file_extension": ".py",
   "mimetype": "text/x-python",
   "name": "python",
   "nbconvert_exporter": "python",
   "pygments_lexer": "ipython3",
   "version": "3.8.8"
  }
 },
 "nbformat": 4,
 "nbformat_minor": 5
}
