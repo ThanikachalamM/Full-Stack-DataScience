{
 "cells": [
  {
   "cell_type": "code",
   "execution_count": null,
   "id": "6c3c562e",
   "metadata": {},
   "outputs": [],
   "source": [
    "#What is the purpose of Python's OOP?\n",
    "Python provides all the standard features of object oriented programming. Developers often choose to use OOP in their Python programs because it makes code more reusable and makes it easier to work with larger programs\n",
    "#Where does an inheritance search look for an attribute?\n",
    "All of these objects are namespaces (packages of variables), and the inheritance search is simply a search of the tree from bottom to top looking for the lowest occurrence of an attribute name.\n",
    "#How do you distinguish between a class object and an instance object?\n",
    "Class : a specification, blueprint for an object.\n",
    "Object : physical presence of the class in memory.\n",
    "Instance : an unique copy of the object (same structure, different data)\n",
    "#What makes the first argument in a class’s method function special?\n",
    "The first argument of every class method, including init, is always a reference to the current instance of the class. By convention, this argument is always named self. In the init method, self refers to the newly created object; in other class methods, it refers to the instance whose method was called\n",
    "#What is the purpose of the __init__ method?\n",
    "There are many method names which have special significance in Python classes. The __init__ method is run as soon as an object of a class is instantiated (i.e. created). The method is useful to do any initialization (i.e. passing initial values to your object) you want to do with your object.\n",
    "#What is the process for creating a class instance?\n",
    "When you create an object, you are creating an instance of a class, therefore \"instantiating\" a class. The new operator requires a single, postfix argument: a call to a constructor. The name of the constructor provides the name of the class to instantiate. The constructor initializes the new object\n",
    "#What is the process for creating a class?\n",
    "When you create an object, you are creating an instance of a class, therefore \"instantiating\" a class. The new operator requires a single, postfix argument: a call to a constructor. The name of the constructor provides the name of the class to instantiate. The constructor initializes the new object\n",
    "#How would you define the superclasses of a class?\n",
    "A superclass is the class from which many subclasses can be created. The subclasses inherit the characteristics of a superclass. The superclass is also known as the parent class or base class. In the above example, Vehicle is the Superclass and its subclasses are Car, Truck and Motorcycle\n"
   ]
  }
 ],
 "metadata": {
  "kernelspec": {
   "display_name": "Python 3",
   "language": "python",
   "name": "python3"
  },
  "language_info": {
   "codemirror_mode": {
    "name": "ipython",
    "version": 3
   },
   "file_extension": ".py",
   "mimetype": "text/x-python",
   "name": "python",
   "nbconvert_exporter": "python",
   "pygments_lexer": "ipython3",
   "version": "3.8.10"
  }
 },
 "nbformat": 4,
 "nbformat_minor": 5
}
